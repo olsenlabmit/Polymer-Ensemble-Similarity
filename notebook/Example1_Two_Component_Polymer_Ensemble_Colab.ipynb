{
 "cells": [
  {
   "cell_type": "markdown",
   "metadata": {
    "id": "qJN4M4IQfWlV"
   },
   "source": [
    "<a target=\"_blank\" href=\"https://colab.research.google.com/github/olsenlabmit/Polymer-Ensemble-Similarity/blob/main/notebook/Example1_Two_Component_Polymer_Ensemble_Colab.ipynb\">\n",
    "  <img src=\"https://colab.research.google.com/assets/colab-badge.svg\" alt=\"Open In Colab\"/>\n",
    "</a>"
   ]
  },
  {
   "cell_type": "code",
   "execution_count": null,
   "metadata": {
    "cellView": "form",
    "id": "zMN73XuAfrN0"
   },
   "outputs": [],
   "source": [
    "# @title Copyright & License (click to expand)\n",
    "\n",
    "# MIT License\n",
    "\n",
    "# Copyright (c) 2023 olsenlabmit\n",
    "\n",
    "# Permission is hereby granted, free of charge, to any person obtaining a copy\n",
    "# of this software and associated documentation files (the \"Software\"), to deal\n",
    "# in the Software without restriction, including without limitation the rights\n",
    "# to use, copy, modify, merge, publish, distribute, sublicense, and/or sell\n",
    "# copies of the Software, and to permit persons to whom the Software is\n",
    "# furnished to do so, subject to the following conditions:\n",
    "\n",
    "# The above copyright notice and this permission notice shall be included in all\n",
    "# copies or substantial portions of the Software.\n",
    "\n",
    "# THE SOFTWARE IS PROVIDED \"AS IS\", WITHOUT WARRANTY OF ANY KIND, EXPRESS OR\n",
    "# IMPLIED, INCLUDING BUT NOT LIMITED TO THE WARRANTIES OF MERCHANTABILITY,\n",
    "# FITNESS FOR A PARTICULAR PURPOSE AND NONINFRINGEMENT. IN NO EVENT SHALL THE\n",
    "# AUTHORS OR COPYRIGHT HOLDERS BE LIABLE FOR ANY CLAIM, DAMAGES OR OTHER\n",
    "# LIABILITY, WHETHER IN AN ACTION OF CONTRACT, TORT OR OTHERWISE, ARISING FROM,\n",
    "# OUT OF OR IN CONNECTION WITH THE SOFTWARE OR THE USE OR OTHER DEALINGS IN THE\n",
    "# SOFTWARE."
   ]
  },
  {
   "cell_type": "markdown",
   "metadata": {
    "id": "_iZyqlBRb7ce"
   },
   "source": [
    "# Download Necessary Files\n",
    "\n",
    "Downloading local python functions, tables, and dataset\n",
    "from Github Repo [Polymer-Ensemble-Similarity](https://github.com/olsenlabmit/Polymer-Ensemble-Similarity.git)"
   ]
  },
  {
   "cell_type": "code",
   "execution_count": null,
   "metadata": {
    "id": "_o8vi_-QrKij"
   },
   "outputs": [],
   "source": [
    "!git clone https://github.com/olsenlabmit/Polymer-Ensemble-Similarity.git\n",
    "!mv Polymer-Ensemble-Similarity/dataset .\n",
    "!mv Polymer-Ensemble-Similarity/tables .\n",
    "!mv Polymer-Ensemble-Similarity/utils ."
   ]
  },
  {
   "cell_type": "markdown",
   "metadata": {
    "id": "mSdNpNOZcEdk"
   },
   "source": [
    "# Import Required Libraries"
   ]
  },
  {
   "cell_type": "code",
   "execution_count": null,
   "metadata": {
    "id": "veQ7XTe5KHgx"
   },
   "outputs": [],
   "source": [
    "import random\n",
    "import numpy as np\n",
    "import shutil\n",
    "import sys\n",
    "import os.path\n",
    "import json\n",
    "from scipy.stats import norm\n",
    "import matplotlib.pyplot as plt\n",
    "\n",
    "\n",
    "if not shutil.which(\"rdkit\"):\n",
    "    !pip install -q rdkit\n",
    "\n",
    "from rdkit import Chem\n",
    "from rdkit.Chem import Draw\n",
    "from rdkit.Chem.Draw import IPythonConsole\n",
    "\n",
    "if not shutil.which(\"grakel\"):\n",
    "    !pip install grakel\n",
    "\n",
    "if not shutil.which(\"dgl\"):\n",
    "    !pip install dgl\n",
    "\n",
    "if not shutil.which(\"umap\"):\n",
    "    !pip install umap-learn\n",
    "\n",
    "if not shutil.which(\"pyomo\"):\n",
    "    !pip install -q pyomo\n",
    "    assert shutil.which(\"pyomo\")\n",
    "\n",
    "from pyomo.environ import *\n",
    "\n",
    "if not (shutil.which(\"cbc\") or os.path.isfile(\"cbc\")):\n",
    "    if \"google.colab\" in sys.modules:\n",
    "        !apt-get install -y -qq coinor-cbc\n",
    "    else:\n",
    "        try:\n",
    "            !conda install -c conda-forge coincbc\n",
    "        except:\n",
    "            pass\n",
    "\n",
    "assert shutil.which(\"cbc\") or os.path.isfile(\"cbc\")\n",
    "\n",
    "from utils.load_networkx import networkx_feat\n",
    "from utils import macro_unsupervised as unsup\n",
    "from utils import plot\n",
    "\n",
    "print(\"Import Library Done!\")"
   ]
  },
  {
   "cell_type": "markdown",
   "metadata": {
    "id": "YteAN12TdcD2"
   },
   "source": [
    "# Load the Ensemble P and Ensemble Q in Example 1"
   ]
  },
  {
   "cell_type": "markdown",
   "source": [
    "## Graph Representation Index Sort Function\n",
    "\n",
    "P = \\{\"p1\": graph representatioon of p1, \"p2\", graph representatioon of p2}.\n",
    "\n",
    "Q = \\{\"q1\": graph representatioon of q1, \"q2\", graph representatioon of q2}.\n",
    "\n",
    "These graph representations are stored in dict where python dictionary. The dictionary does not have order. Therefore, we need to have some sort functions to call them in order according their keys.\n"
   ],
   "metadata": {
    "id": "2DvcglBLxssN"
   }
  },
  {
   "cell_type": "code",
   "source": [
    "def sortFunc(index):\n",
    "    return int(index[1:])"
   ],
   "metadata": {
    "id": "wloBCboDsPhM"
   },
   "execution_count": 75,
   "outputs": []
  },
  {
   "cell_type": "markdown",
   "source": [
    "## Load Ensemble P\n",
    "\n",
    "<img src=\"https://drive.google.com/uc?export=view&id=1b0wnyachSnJKj1pSajL5GT0erMGUwx3p\"  width=\"50%\">\n",
    "\n",
    "where blue sphere is R0, red sphere is R1.\n",
    "\n",
    "\n",
    "$w_{p_{1}} = 0.5, w_ {p_{2}} = 0.5$"
   ],
   "metadata": {
    "id": "7S0J7uqPxxpL"
   }
  },
  {
   "cell_type": "code",
   "execution_count": 74,
   "metadata": {
    "id": "uwJvO6PjYKeK"
   },
   "outputs": [],
   "source": [
    "Ensemble_P = networkx_feat(\n",
    "    TXT_DATA_PATH=\"./dataset/Example1/Ensemble_P/\",\n",
    "    MON_SMILES=\"tables/SMILES_monomer.txt\",\n",
    "    FEAT=\"onehot\",\n",
    ")\n",
    "\n",
    "Ensemble_P_indexs = list(Ensemble_P.keys())\n",
    "Ensemble_P_indexs.sort(key=sortFunc)"
   ]
  },
  {
   "cell_type": "code",
   "source": [
    "with open(\"./dataset/Example1/Ensemble_P_weight.json\", \"r\") as json_file:\n",
    "    Ensemble_P_weight = json.load(json_file)\n",
    "print(Ensemble_P_weight)"
   ],
   "metadata": {
    "colab": {
     "base_uri": "https://localhost:8080/"
    },
    "id": "keoxCBtftLMd",
    "outputId": "6686d1d4-e4f8-46eb-864a-5daaaf56b7c6"
   },
   "execution_count": 27,
   "outputs": [
    {
     "output_type": "stream",
     "name": "stdout",
     "text": [
      "{'p1': 0.5, 'p2': 0.5}\n"
     ]
    }
   ]
  },
  {
   "cell_type": "code",
   "execution_count": 35,
   "metadata": {
    "colab": {
     "base_uri": "https://localhost:8080/",
     "height": 986
    },
    "id": "pAIdxDmcMTCY",
    "outputId": "846fb4d3-57a6-468c-ef89-6e14ad968f0e"
   },
   "outputs": [
    {
     "output_type": "stream",
     "name": "stdout",
     "text": [
      "p1: \n",
      "{0: 'R0', 1: 'R1', 2: 'R0', 3: 'R1', 4: 'R0', 5: 'R1', 6: 'R0', 7: 'R1', 8: 'R0'}\n",
      "\n",
      "\n",
      "p2: \n",
      "{0: 'R1', 1: 'R0', 2: 'R1', 3: 'R0', 4: 'R1', 5: 'R0', 6: 'R1', 7: 'R0', 8: 'R1'}\n",
      "\n",
      "\n"
     ]
    },
    {
     "output_type": "display_data",
     "data": {
      "text/plain": [
       "<Figure size 640x480 with 1 Axes>"
      ],
      "image/png": "[encoded data removed]"
     },
     "metadata": {}
    },
    {
     "output_type": "display_data",
     "data": {
      "text/plain": [
       "<Figure size 640x480 with 1 Axes>"
      ],
      "image/png": "[encoded data removed]"
     },
     "metadata": {}
    }
   ],
   "source": [
    "for i in range(0, len(Ensemble_P_indexs)):\n",
    "    plt.figure()\n",
    "    plt.title(\"Graph Representation of \" + Ensemble_P_indexs[i])\n",
    "    print(Ensemble_P_indexs[i] + \": \")\n",
    "    plot.graph(Ensemble_P[Ensemble_P_indexs[i]])\n",
    "    print(\"\\n\")"
   ]
  },
  {
   "cell_type": "markdown",
   "source": [
    "## Load Ensemble Q\n",
    "\n",
    "<img src=\"https://drive.google.com/uc?export=view&id=1N3J7IsU4bSUDWdDFi4LuBqETT0pMj8WD\"  width=\"50%\">\n",
    "\n",
    "where blue sphere is R0, red sphere is R1.\n",
    "\n",
    "$w_{q_{1}} = 0.5, w_ {q_{2}} = 0.5$"
   ],
   "metadata": {
    "id": "0Q_hj4Wdx1uS"
   }
  },
  {
   "cell_type": "code",
   "execution_count": 41,
   "metadata": {
    "id": "Z5KXPff8eI75"
   },
   "outputs": [],
   "source": [
    "Ensemble_Q = networkx_feat(\n",
    "    TXT_DATA_PATH=\"./dataset/Example1/Ensemble_Q/\",\n",
    "    MON_SMILES=\"tables/SMILES_monomer.txt\",\n",
    "    FEAT=\"onehot\",\n",
    ")\n",
    "\n",
    "Ensemble_Q_indexs = list(Ensemble_Q.keys())\n",
    "Ensemble_Q_indexs.sort(key=sortFunc)"
   ]
  },
  {
   "cell_type": "code",
   "execution_count": 43,
   "metadata": {
    "colab": {
     "base_uri": "https://localhost:8080/"
    },
    "id": "rLgUo1zkdpcE",
    "outputId": "ead4da11-3918-4b7f-bfd5-98743dabecc8"
   },
   "outputs": [
    {
     "output_type": "stream",
     "name": "stdout",
     "text": [
      "{'q1': 0.5, 'q2': 0.5}\n"
     ]
    }
   ],
   "source": [
    "with open(\"./dataset/Example1/Ensemble_Q_weight.json\", \"r\") as json_file:\n",
    "    Ensemble_Q_weight = json.load(json_file)\n",
    "print(Ensemble_Q_weight)"
   ]
  },
  {
   "cell_type": "code",
   "execution_count": 44,
   "metadata": {
    "colab": {
     "base_uri": "https://localhost:8080/",
     "height": 986
    },
    "id": "c1Sje3dHdpfM",
    "outputId": "4c8547a2-66f4-4705-f94f-2aa16a331cdf"
   },
   "outputs": [
    {
     "output_type": "stream",
     "name": "stdout",
     "text": [
      "q1: \n",
      "{0: 'R0', 1: 'R0', 2: 'R0', 3: 'R1', 4: 'R1', 5: 'R1', 6: 'R0', 7: 'R0', 8: 'R0'}\n",
      "\n",
      "\n",
      "q2: \n",
      "{0: 'R1', 1: 'R1', 2: 'R1', 3: 'R0', 4: 'R0', 5: 'R0', 6: 'R1', 7: 'R1', 8: 'R1'}\n",
      "\n",
      "\n"
     ]
    },
    {
     "output_type": "display_data",
     "data": {
      "text/plain": [
       "<Figure size 640x480 with 1 Axes>"
      ],
      "image/png": "[encoded data removed]"
     },
     "metadata": {}
    },
    {
     "output_type": "display_data",
     "data": {
      "text/plain": [
       "<Figure size 640x480 with 1 Axes>"
      ],
      "image/png": "[encoded data removed]"
     },
     "metadata": {}
    }
   ],
   "source": [
    "for i in range(0, len(Ensemble_Q_indexs)):\n",
    "    plt.figure()\n",
    "    plt.title(\"Graph Representation of \" + Ensemble_Q_indexs[i])\n",
    "    print(Ensemble_Q_indexs[i] + \": \")\n",
    "    plot.graph(Ensemble_Q[Ensemble_Q_indexs[i]])\n",
    "    print(\"\\n\")"
   ]
  },
  {
   "cell_type": "markdown",
   "metadata": {
    "id": "e0uCMi7Udzb9"
   },
   "source": [
    "# Polymer Ensembles Similarity Function via Earth Mover's Distance\n",
    "\n",
    "Use the earth mover's distance (EMD) to compute pairwise similarity scores between polymer ensembles.\n",
    "\n",
    "\n",
    "$ EMD (P,Q)= \\min_{F}\\sum_{i=1}^{m}\\sum_{j=1}^{n}f_{i,j}d_{i,j}$\n",
    "\n",
    "$ {\\rm subject\\ to\\ } f_{i,j} \\geq 0, {\\rm\\ for\\ any\\ } \\ 1 \\leq i \\leq m, 1 \\leq j \\leq n $\n",
    "\n",
    "$     \\sum_{j=1}^{n}f_{i,j} =w_{pi}, {\\rm for\\ any} \\ 1 \\leq i \\leq m $\n",
    "\n",
    "$     \\sum_{i=1}^{m}f_{i,j} =w_{qj}, {\\rm for\\ any} \\ 1 \\leq j \\leq n $\n",
    "\n",
    "$     \\sum_{i=1}^{m}\\sum_{j=1}^{n}f_{i,j} = \\sum_{i}^{m} w_{pi} = \\sum_{j}^{n} w_{qj} = 1 $\n",
    "\n",
    "\n",
    "One polymer ensemble is defined as $P = \\{(p_1,w_{p_1}) ,(p_2,w_{p_2}),...,(p_i,w_{p_i}),...,(p_m,w_{p_m})\\}$ has $m$ types of polymer chains, where $p_i$ represents a type of polymer chain and  $w_{p_i}>0$ is its corresponding weight, which can be the mole fraction of this polymer chain in the polymer ensemble. Similarly, the second ensemble $Q = {(q_1,w_{q_1}),(q_2,w_{q_2}),...,(q_j,w_{q_j}),...,(q_n,w_{q_n})}$ has $n$ types of polymer chains. The sums of the weights for $P$ and $Q$ are both normalized and equal to one.\n",
    "\n",
    "The EMD linear optimization code  refers to [Transportation Networks, ND Pyomo Notebook](https://jckantor.github.io/ND-Pyomo-Cookbook/notebooks/03.01-Transportation-Networks.html)\n",
    "\n",
    "Once $EMD (P,Q)$ is calculated, the similarity score between $P$ and $Q$ is\n",
    "\n",
    "$S(P,Q) = 1- EMD (P,Q)$\n",
    "\n",
    "\\\\\n",
    "\n",
    "\\\\\n",
    "\n",
    "The distance ($d_{i,j}$) between one polymer molecule $p_i$ and another polymer molecule $q_j$ is calculated through graph edit distance. This part of the code builds on [GLAMOUR](https://github.com/learningmatter-mit/GLAMOUR) and networkx function [graph_edit_distance](https://networkx.org/documentation/stable/reference/algorithms/generated/networkx.algorithms.similarity.graph_edit_distance.html).\n",
    "\n",
    "$d_{\\rm TOP}(g_1, g_2) = 1- \\exp(-\\frac{\\alpha \\cdot GED(g_1, g_2)}{(N_1 + N_2)/2})$\n",
    "\n",
    "where $N_i$ is the number of nodes in graph $g_i$, $\\alpha$ is a tunable parameter with the default value being 1. [Reference1](https://arxiv.org/abs/1808.05689), [Reference2](https://doi.org/10.1021/acs.macromol.3c00761)"
   ]
  },
  {
   "cell_type": "code",
   "execution_count": 53,
   "metadata": {
    "id": "VkvicUCoMTFZ"
   },
   "outputs": [],
   "source": [
    "def Similarity_Score_EMD_Calculation(\n",
    "    ensembleP=None,\n",
    "    ensembleP_weight=None,\n",
    "    ensembleQ=None,\n",
    "    ensembleQ_weight=None,\n",
    "    alpha=1,\n",
    "    print_details=False,\n",
    "):\n",
    "    # load the weight of Ensemble P\n",
    "    Demand = {}\n",
    "\n",
    "    ensembleP_number = len(ensembleP_weight)\n",
    "\n",
    "    ensembleP_weight_sum = sum(ensembleP_weight.values())\n",
    "\n",
    "    ensembleP_indexs = list(ensembleP.keys())\n",
    "    ensembleP_indexs.sort(key=sortFunc)\n",
    "\n",
    "    for i in range(0, ensembleP_number):\n",
    "        Demand[\"P\" + str(i + 1)] = (\n",
    "            ensembleP_weight[ensembleP_indexs[i]] / ensembleP_weight_sum\n",
    "        )\n",
    "\n",
    "    # load the weight of Ensemble Q\n",
    "    Supply = {}\n",
    "\n",
    "    ensembleQ_number = len(ensembleQ_weight)\n",
    "\n",
    "    ensembleQ_weight_sum = sum(ensembleQ_weight.values())\n",
    "\n",
    "    ensembleQ_indexs = list(ensembleQ.keys())\n",
    "    ensembleQ_indexs.sort(key=sortFunc)\n",
    "\n",
    "    for j in range(0, ensembleQ_number):\n",
    "        Supply[\"Q\" + str(j + 1)] = (\n",
    "            ensembleQ_weight[ensembleQ_indexs[i]] / ensembleQ_weight_sum\n",
    "        )\n",
    "\n",
    "    # load the transport flow matrix [f_ij]\n",
    "    T = {}\n",
    "    for i in range(0, ensembleP_number):\n",
    "        for j in range(0, ensembleQ_number):\n",
    "            GED = unsup.edit_distance(\n",
    "                ensembleP[ensembleP_indexs[i]],\n",
    "                ensembleQ[ensembleQ_indexs[j]],\n",
    "                node_attr=\"h\",\n",
    "                edge_attr=\"e\",\n",
    "                upper_bound=100,\n",
    "                indel_mul=1,\n",
    "                sub_mul=1,\n",
    "            )\n",
    "\n",
    "            N_i = ensembleP[ensembleP_indexs[i]].number_of_nodes()\n",
    "\n",
    "            N_j = ensembleQ[ensembleQ_indexs[j]].number_of_nodes()\n",
    "\n",
    "            T[(\"P\" + str(i + 1), \"Q\" + str(j + 1))] = 1 - np.exp(\n",
    "                -alpha * GED / (0.5 * (N_i + N_j))\n",
    "            )\n",
    "\n",
    "    # Step 0: Create an instance of the model\n",
    "    model = ConcreteModel()\n",
    "    model.dual = Suffix(direction=Suffix.IMPORT)\n",
    "\n",
    "    # Step 1: Define index sets\n",
    "    CUS = list(Demand.keys())\n",
    "    SRC = list(Supply.keys())\n",
    "\n",
    "    # Step 2: Define the decision\n",
    "    model.x = Var(CUS, SRC, domain=NonNegativeReals)\n",
    "\n",
    "    # Step 3: Define Objective\n",
    "    model.Cost = Objective(\n",
    "        expr=sum([T[c, s] * model.x[c, s] for c in CUS for s in SRC]), sense=minimize\n",
    "    )\n",
    "\n",
    "    # Step 4: Constraints\n",
    "    model.src = ConstraintList()\n",
    "    for s in SRC:\n",
    "        model.src.add(sum([model.x[c, s] for c in CUS]) <= Supply[s])\n",
    "\n",
    "    model.dmd = ConstraintList()\n",
    "    for c in CUS:\n",
    "        model.dmd.add(sum([model.x[c, s] for s in SRC]) == Demand[c])\n",
    "\n",
    "    # Step 5: call the cbc solver to solve this EMD problem\n",
    "    results = SolverFactory(\"cbc\").solve(model)\n",
    "\n",
    "    # Step 6: return EMD result\n",
    "    if \"ok\" == str(results.Solver.status):\n",
    "        if print_details == True:\n",
    "            for s in SRC:\n",
    "                for c in CUS:\n",
    "                    if model.x[c, s]() > 0:\n",
    "                        print(\n",
    "                            \"Ship from \",\n",
    "                            s,\n",
    "                            \" to \",\n",
    "                            c,\n",
    "                            \":\",\n",
    "                            model.x[c, s](),\n",
    "                            \"*\",\n",
    "                            T[c, s],\n",
    "                        )\n",
    "        return 1 - model.Cost()\n",
    "\n",
    "    else:\n",
    "        print(\"No Valid Solution Found\")\n",
    "        return False"
   ]
  },
  {
   "cell_type": "markdown",
   "metadata": {
    "id": "lpFPLOC7d3DI"
   },
   "source": [
    "# Calculation of $S(P,Q)$"
   ]
  },
  {
   "cell_type": "code",
   "source": [
    "Similarity_Score = Similarity_Score_EMD_Calculation(\n",
    "    ensembleP=Ensemble_P,\n",
    "    ensembleP_weight=Ensemble_P_weight,\n",
    "    ensembleQ=Ensemble_Q,\n",
    "    ensembleQ_weight=Ensemble_Q_weight,\n",
    "    alpha=1,\n",
    "    print_details=False,\n",
    ")"
   ],
   "metadata": {
    "id": "ziOxwdOrwerL"
   },
   "execution_count": 72,
   "outputs": []
  },
  {
   "cell_type": "code",
   "source": [
    "print(\"Similarity Score between P and Q = %.2f\" % Similarity_Score)"
   ],
   "metadata": {
    "colab": {
     "base_uri": "https://localhost:8080/"
    },
    "id": "_Z2phPpt1hr5",
    "outputId": "1854832f-6a2c-48e5-a8b3-edad1168b8df"
   },
   "execution_count": 73,
   "outputs": [
    {
     "output_type": "stream",
     "name": "stdout",
     "text": [
      "Similarity Score between P and Q = 0.72\n"
     ]
    }
   ]
  },
  {
   "cell_type": "code",
   "source": [],
   "metadata": {
    "id": "bqEMXJYZ1vvp"
   },
   "execution_count": null,
   "outputs": []
  }
 ],
 "metadata": {
  "colab": {
   "provenance": []
  },
  "kernelspec": {
   "display_name": "Python 3 (ipykernel)",
   "language": "python",
   "name": "python3"
  },
  "language_info": {
   "codemirror_mode": {
    "name": "ipython",
    "version": 3
   },
   "file_extension": ".py",
   "mimetype": "text/x-python",
   "name": "python",
   "nbconvert_exporter": "python",
   "pygments_lexer": "ipython3",
   "version": "3.9.12"
  }
 },
 "nbformat": 4,
 "nbformat_minor": 0
}