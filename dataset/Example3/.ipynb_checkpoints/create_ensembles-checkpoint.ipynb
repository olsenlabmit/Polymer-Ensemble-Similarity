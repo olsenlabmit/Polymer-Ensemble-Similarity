{
 "cells": [
  {
   "cell_type": "code",
   "execution_count": 1,
   "id": "50c24312",
   "metadata": {},
   "outputs": [],
   "source": [
    "import numpy as np\n",
    "from random import choices\n",
    "#python program to check if a directory exists\n",
    "import os\n",
    "from write_file_function import write_file_function_threearm, write_file_function_fourarm"
   ]
  },
  {
   "cell_type": "code",
   "execution_count": 3,
   "id": "5eaec2a4",
   "metadata": {},
   "outputs": [
    {
     "name": "stdout",
     "output_type": "stream",
     "text": [
      "The new directory is created!\n"
     ]
    }
   ],
   "source": [
    "path = \"ThreeArmEnsembleX\"\n",
    "# Check whether the specified path exists or not\n",
    "isExist = os.path.exists(path)\n",
    "if not isExist:\n",
    "\n",
    "   # Create a new directory because it does not exist\n",
    "   os.makedirs(path)\n",
    "   print(\"The new directory is created!\")"
   ]
  },
  {
   "cell_type": "code",
   "execution_count": 15,
   "id": "8ec9ea1e",
   "metadata": {},
   "outputs": [
    {
     "name": "stdout",
     "output_type": "stream",
     "text": [
      "\n",
      "\n",
      "10\n",
      "(2, 2, 2) 42\n",
      "(2, 2, 3) 560\n",
      "(2, 2, 4) 145\n",
      "(2, 3, 3) 2221\n",
      "(2, 3, 4) 1075\n",
      "(2, 4, 4) 145\n",
      "(3, 3, 3) 3015\n",
      "(3, 3, 4) 2201\n",
      "(3, 4, 4) 561\n",
      "(4, 4, 4) 35\n"
     ]
    }
   ],
   "source": [
    "number_chain = 10000\n",
    "number_arm = 3\n",
    "\n",
    "population = [2, 3, 4]\n",
    "weights = [1,4,1]\n",
    "\n",
    "arm_length_list_dict = {}\n",
    "for i in range(0,number_chain):\n",
    "    arm_length_list = choices(population, weights,k=number_arm)\n",
    "    arm_length_list.sort()\n",
    "    #print(arm_length_list)\n",
    "    arm_length_tuple = tuple(arm_length_list) \n",
    "    if (arm_length_tuple in arm_length_list_dict) == False:\n",
    "        arm_length_list_dict[arm_length_tuple] =1\n",
    "    else:\n",
    "        arm_length_list_dict[arm_length_tuple] = arm_length_list_dict[arm_length_tuple] +1\n",
    "    #file_name = \"EnsembleX/GBID\"+str(i+1)+\"_graph.txt\"\n",
    "    #write_file_function(file_name=file_name, arm_length_list=arm_length_list )\n",
    "print('\\n')\n",
    "key_list = []\n",
    "for key, value in arm_length_list_dict.items():\n",
    "    #print(key, ':', value)\n",
    "    key_list.append(key)\n",
    "    #print(list(key))\n",
    "key_list.sort()\n",
    "#print(key_list)\n",
    "print(len(key_list))\n",
    "#for key in key_list:\n",
    "#    print(key,arm_length_list_dict[key] )\n",
    "#print('\\n')    \n",
    "for i in range(0,len(key_list)):\n",
    "    #arm_length_list = choices(population, weights,k=3)\n",
    "    print(key_list[i],arm_length_list_dict[key_list[i]] )\n",
    "    file_name = \"EnsembleX/GBID\"+str(i+1)+\"_graph.txt\"\n",
    "    write_file_function_threearm(file_name=file_name, \n",
    "                        arm_length_list=key_list[i],\n",
    "                        E1='EX1', \n",
    "                        E2='EX2', \n",
    "                        R1='RX1',\n",
    "                        bond='cc_bond' )    "
   ]
  },
  {
   "cell_type": "code",
   "execution_count": 65,
   "id": "a69a8a63",
   "metadata": {},
   "outputs": [
    {
     "name": "stdout",
     "output_type": "stream",
     "text": [
      "The new directory is created!\n"
     ]
    }
   ],
   "source": [
    "path = \"ThreeArmEnsembleY\"\n",
    "# Check whether the specified path exists or not\n",
    "isExist = os.path.exists(path)\n",
    "if not isExist:\n",
    "\n",
    "   # Create a new directory because it does not exist\n",
    "   os.makedirs(path)\n",
    "   print(\"The new directory is created!\")\n"
   ]
  },
  {
   "cell_type": "code",
   "execution_count": 14,
   "id": "ebaa972b",
   "metadata": {},
   "outputs": [
    {
     "name": "stdout",
     "output_type": "stream",
     "text": [
      "\n",
      "\n",
      "10\n",
      "(2, 2, 2) 161\n",
      "(2, 2, 3) 965\n",
      "(2, 2, 4) 469\n",
      "(2, 3, 3) 1839\n",
      "(2, 3, 4) 1882\n",
      "(2, 4, 4) 443\n",
      "(3, 3, 3) 1299\n",
      "(3, 3, 4) 1875\n",
      "(3, 4, 4) 899\n",
      "(4, 4, 4) 168\n"
     ]
    }
   ],
   "source": [
    "number_chain = 10000\n",
    "number_arm = 3\n",
    "\n",
    "population = [2, 3, 4]\n",
    "weights = [2,4,2]\n",
    "\n",
    "arm_length_list_dict = {}\n",
    "for i in range(0,number_chain):\n",
    "    arm_length_list = choices(population, weights,k=number_arm)\n",
    "    arm_length_list.sort()\n",
    "    #print(arm_length_list)\n",
    "    arm_length_tuple = tuple(arm_length_list) \n",
    "    if (arm_length_tuple in arm_length_list_dict) == False:\n",
    "        arm_length_list_dict[arm_length_tuple] =1\n",
    "    else:\n",
    "        arm_length_list_dict[arm_length_tuple] = arm_length_list_dict[arm_length_tuple] +1\n",
    "    #file_name = \"EnsembleX/GBID\"+str(i+1)+\"_graph.txt\"\n",
    "    #write_file_function(file_name=file_name, arm_length_list=arm_length_list )\n",
    "print('\\n')\n",
    "key_list = []\n",
    "for key, value in arm_length_list_dict.items():\n",
    "    #print(key, ':', value)\n",
    "    key_list.append(key)\n",
    "    #print(list(key))\n",
    "key_list.sort()\n",
    "#print(key_list)\n",
    "print(len(key_list))\n",
    "#for key in key_list:\n",
    "#    print(key,arm_length_list_dict[key] )\n",
    "#print('\\n')    \n",
    "for i in range(0,len(key_list)):\n",
    "    #arm_length_list = choices(population, weights,k=3)\n",
    "    print(key_list[i],arm_length_list_dict[key_list[i]] )\n",
    "    file_name = \"EnsembleY/GBID\"+str(i+1)+\"_graph.txt\"\n",
    "    write_file_function_threearm(file_name=file_name, \n",
    "                        arm_length_list=key_list[i],\n",
    "                        E1='EX1', \n",
    "                        E2='EX2', \n",
    "                        R1='RX1',\n",
    "                        bond='cc_bond' )      "
   ]
  },
  {
   "cell_type": "code",
   "execution_count": 5,
   "id": "969302eb",
   "metadata": {},
   "outputs": [
    {
     "name": "stdout",
     "output_type": "stream",
     "text": [
      "The new directory is created!\n"
     ]
    }
   ],
   "source": [
    "path = \"ThreeArmEnsembleZ\"\n",
    "# Check whether the specified path exists or not\n",
    "isExist = os.path.exists(path)\n",
    "if not isExist:\n",
    "\n",
    "   # Create a new directory because it does not exist\n",
    "   os.makedirs(path)\n",
    "   print(\"The new directory is created!\")"
   ]
  },
  {
   "cell_type": "code",
   "execution_count": 13,
   "id": "99c81906",
   "metadata": {},
   "outputs": [
    {
     "name": "stdout",
     "output_type": "stream",
     "text": [
      "\n",
      "\n",
      "10\n",
      "(2, 2, 2) 336\n",
      "(2, 2, 3) 1078\n",
      "(2, 2, 4) 1145\n",
      "(2, 3, 3) 1116\n",
      "(2, 3, 4) 2264\n",
      "(2, 4, 4) 1122\n",
      "(3, 3, 3) 374\n",
      "(3, 3, 4) 1122\n",
      "(3, 4, 4) 1060\n",
      "(4, 4, 4) 383\n"
     ]
    }
   ],
   "source": [
    "number_chain = 10000\n",
    "number_arm = 3\n",
    "\n",
    "population = [2, 3, 4]\n",
    "weights = [4,4,4]\n",
    "\n",
    "arm_length_list_dict = {}\n",
    "for i in range(0,number_chain):\n",
    "    arm_length_list = choices(population, weights,k=number_arm)\n",
    "    arm_length_list.sort()\n",
    "    #print(arm_length_list)\n",
    "    arm_length_tuple = tuple(arm_length_list) \n",
    "    if (arm_length_tuple in arm_length_list_dict) == False:\n",
    "        arm_length_list_dict[arm_length_tuple] =1\n",
    "    else:\n",
    "        arm_length_list_dict[arm_length_tuple] = arm_length_list_dict[arm_length_tuple] +1\n",
    "    #file_name = \"EnsembleX/GBID\"+str(i+1)+\"_graph.txt\"\n",
    "    #write_file_function(file_name=file_name, arm_length_list=arm_length_list )\n",
    "print('\\n')\n",
    "key_list = []\n",
    "for key, value in arm_length_list_dict.items():\n",
    "    #print(key, ':', value)\n",
    "    key_list.append(key)\n",
    "    #print(list(key))\n",
    "key_list.sort()\n",
    "#print(key_list)\n",
    "print(len(key_list))\n",
    "#for key in key_list:\n",
    "#    print(key,arm_length_list_dict[key] )\n",
    "#print('\\n')    \n",
    "for i in range(0,len(key_list)):\n",
    "    #arm_length_list = choices(population, weights,k=3)\n",
    "    print(key_list[i],arm_length_list_dict[key_list[i]] )\n",
    "    file_name = \"ThreeArmEnsembleZ/GBID\"+str(i+1)+\"_graph.txt\"\n",
    "    write_file_function_threearm(file_name=file_name, \n",
    "                        arm_length_list=key_list[i],\n",
    "                        E1='EX1', \n",
    "                        E2='EX2', \n",
    "                        R1='RX1',\n",
    "                        bond='cc_bond' ) "
   ]
  },
  {
   "cell_type": "code",
   "execution_count": null,
   "id": "1fdab6c7",
   "metadata": {},
   "outputs": [],
   "source": []
  },
  {
   "cell_type": "code",
   "execution_count": null,
   "id": "6115a498",
   "metadata": {},
   "outputs": [],
   "source": []
  },
  {
   "cell_type": "code",
   "execution_count": null,
   "id": "9835d84b",
   "metadata": {},
   "outputs": [],
   "source": []
  },
  {
   "cell_type": "code",
   "execution_count": null,
   "id": "cb10f99c",
   "metadata": {},
   "outputs": [],
   "source": []
  },
  {
   "cell_type": "code",
   "execution_count": 37,
   "id": "0dc10117",
   "metadata": {},
   "outputs": [],
   "source": [
    "arm_length_list = [3,4,2]\n",
    "three_arm_length = sum(arm_length_list)\n",
    "file_name = 'test_graph.txt'\n",
    "\n",
    "def write_file_function(file_name, arm_length_list, E1='EX1', E2='EX2', R1='RX1',bond='cc_bond'):\n",
    "    three_arm_length = sum(arm_length_list)\n",
    "    with open(file_name, 'w') as f:\n",
    "        f.write('SMILES\\n')\n",
    "        f.write(E1+'\\n')\n",
    "        f.write(E2+'\\n')\n",
    "        f.write(R1+'\\n')\n",
    "        f.write(bond+'\\n')\n",
    "        f.write('\\n')\n",
    "        f.write('\\n')\n",
    "        f.write('MONOMERS\\n')\n",
    "        f.write(str(1)+' '+E1+'\\n')\n",
    "        f.write(str(2)+' '+E2+'\\n')\n",
    "        f.write(str(3)+' '+E2+'\\n')\n",
    "        f.write(str(4)+' '+E2+'\\n')\n",
    "        for i in range(0, three_arm_length):\n",
    "            f.write(str(5+i)+' '+R1+'\\n')\n",
    "        f.write(\"\\n\\nBONDS\\n\")\n",
    "    \n",
    "        for i in range(0,arm_length_list[0]+1):\n",
    "            if i == 0: \n",
    "                f.write(str(1)+\" \"+str(5+i)+ \" \"+bond+\"\\n\")\n",
    "            elif i == arm_length_list[0]:\n",
    "                f.write(str(4+i)+\" \"+str(2)+ \" \"+bond+\"\\n\")\n",
    "            else:\n",
    "                f.write(str(4+i)+\" \"+str(5+i)+ \" \"+bond+\"\\n\")\n",
    "        for i in range(0,arm_length_list[1]+1):\n",
    "            if i == 0: \n",
    "                f.write(str(1)+\" \"+str(5+arm_length_list[0]+i)+ \" \"+bond+\"\\n\")\n",
    "            elif i == arm_length_list[1]:\n",
    "                f.write(str(4+arm_length_list[0]+i)+\" \"+str(3)+ \" \"+bond+\"\\n\")\n",
    "            else:\n",
    "                f.write(str(4+arm_length_list[0]+i)+\" \"+str(5+arm_length_list[0]+i)+ \" \"+bond+\"\\n\")\n",
    "            \n",
    "        for i in range(0,arm_length_list[2]+1):\n",
    "            if i == 0: \n",
    "                f.write(str(1)+\" \"+str(5+arm_length_list[0]+arm_length_list[1]+i)+ \" \"+bond+\"\\n\")\n",
    "            elif i == arm_length_list[2]:\n",
    "                f.write(str(4+arm_length_list[0]+arm_length_list[1]+i)+\" \"+str(4)+ \" \"+bond+\"\\n\")\n",
    "            else:\n",
    "                f.write(str(4+arm_length_list[0]+arm_length_list[1]+i)+\" \"+str(5+arm_length_list[0]+arm_length_list[1]+i)+ \" \"+bond+\"\\n\")    \n",
    "\n",
    "    f.close()"
   ]
  },
  {
   "cell_type": "code",
   "execution_count": 38,
   "id": "8d85dcbb",
   "metadata": {},
   "outputs": [],
   "source": [
    "write_file_function(file_name='text4_graph.txt', arm_length_list=[3,4,5] )"
   ]
  },
  {
   "cell_type": "code",
   "execution_count": null,
   "id": "14ca1f2f",
   "metadata": {},
   "outputs": [],
   "source": []
  }
 ],
 "metadata": {
  "kernelspec": {
   "display_name": "Python 3 (ipykernel)",
   "language": "python",
   "name": "python3"
  },
  "language_info": {
   "codemirror_mode": {
    "name": "ipython",
    "version": 3
   },
   "file_extension": ".py",
   "mimetype": "text/x-python",
   "name": "python",
   "nbconvert_exporter": "python",
   "pygments_lexer": "ipython3",
   "version": "3.9.13"
  }
 },
 "nbformat": 4,
 "nbformat_minor": 5
}
