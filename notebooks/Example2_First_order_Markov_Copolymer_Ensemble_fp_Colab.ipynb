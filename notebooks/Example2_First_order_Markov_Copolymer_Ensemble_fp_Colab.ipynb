{
 "cells": [
  {
   "cell_type": "markdown",
   "metadata": {
    "id": "qJN4M4IQfWlV"
   },
   "source": [
    "<a target=\"_blank\" href=\"https://colab.research.google.com/github/olsenlabmit/Polymer-Ensemble-Similarity/blob/main/notebooks/Example2_First_order_Markov_Copolymer_Ensemble_fp_Colab.ipynb\">\n",
    "  <img src=\"https://colab.research.google.com/assets/colab-badge.svg\" alt=\"Open In Colab\"/>\n",
    "</a>"
   ]
  },
  {
   "cell_type": "code",
   "execution_count": null,
   "metadata": {
    "cellView": "form",
    "id": "zMN73XuAfrN0"
   },
   "outputs": [],
   "source": [
    "# @title Copyright & License (click to expand)\n",
    "\n",
    "# MIT License\n",
    "\n",
    "# Copyright (c) 2023 olsenlabmit\n",
    "\n",
    "# Permission is hereby granted, free of charge, to any person obtaining a copy\n",
    "# of this software and associated documentation files (the \"Software\"), to deal\n",
    "# in the Software without restriction, including without limitation the rights\n",
    "# to use, copy, modify, merge, publish, distribute, sublicense, and/or sell\n",
    "# copies of the Software, and to permit persons to whom the Software is\n",
    "# furnished to do so, subject to the following conditions:\n",
    "\n",
    "# The above copyright notice and this permission notice shall be included in all\n",
    "# copies or substantial portions of the Software.\n",
    "\n",
    "# THE SOFTWARE IS PROVIDED \"AS IS\", WITHOUT WARRANTY OF ANY KIND, EXPRESS OR\n",
    "# IMPLIED, INCLUDING BUT NOT LIMITED TO THE WARRANTIES OF MERCHANTABILITY,\n",
    "# FITNESS FOR A PARTICULAR PURPOSE AND NONINFRINGEMENT. IN NO EVENT SHALL THE\n",
    "# AUTHORS OR COPYRIGHT HOLDERS BE LIABLE FOR ANY CLAIM, DAMAGES OR OTHER\n",
    "# LIABILITY, WHETHER IN AN ACTION OF CONTRACT, TORT OR OTHERWISE, ARISING FROM,\n",
    "# OUT OF OR IN CONNECTION WITH THE SOFTWARE OR THE USE OR OTHER DEALINGS IN THE\n",
    "# SOFTWARE."
   ]
  },
  {
   "cell_type": "markdown",
   "metadata": {
    "id": "_iZyqlBRb7ce"
   },
   "source": [
    "# Download Necessary Files\n",
    "\n",
    "Downloading local python functions, tables, and dataset\n",
    "from Github Repo [Polymer-Ensemble-Similarity](https://github.com/olsenlabmit/Polymer-Ensemble-Similarity.git)"
   ]
  },
  {
   "cell_type": "code",
   "execution_count": null,
   "metadata": {
    "id": "_o8vi_-QrKij"
   },
   "outputs": [],
   "source": [
    "!git clone https://github.com/olsenlabmit/Polymer-Ensemble-Similarity.git\n",
    "!mv Polymer-Ensemble-Similarity/dataset .\n",
    "!mv Polymer-Ensemble-Similarity/tables .\n",
    "!mv Polymer-Ensemble-Similarity/utils ."
   ]
  },
  {
   "cell_type": "markdown",
   "metadata": {
    "id": "mSdNpNOZcEdk"
   },
   "source": [
    "# Import Required Libraries"
   ]
  },
  {
   "cell_type": "code",
   "execution_count": 7,
   "metadata": {
    "colab": {
     "base_uri": "https://localhost:8080/"
    },
    "id": "veQ7XTe5KHgx",
    "outputId": "ccfa07fe-f0c6-426f-8273-e5eed7e399bd"
   },
   "outputs": [
    {
     "name": "stdout",
     "output_type": "stream",
     "text": [
      "\u001b[2K     \u001b[90m━━━━━━━━━━━━━━━━━━━━━━━━━━━━━━━━━━━━━━━━\u001b[0m \u001b[32m29.7/29.7 MB\u001b[0m \u001b[31m48.6 MB/s\u001b[0m eta \u001b[36m0:00:00\u001b[0m\n",
      "\u001b[?25hCollecting grakel\n",
      "  Downloading GraKeL-0.1.9-cp310-cp310-manylinux_2_17_x86_64.manylinux2014_x86_64.whl (1.8 MB)\n",
      "\u001b[2K     \u001b[90m━━━━━━━━━━━━━━━━━━━━━━━━━━━━━━━━━━━━━━━━\u001b[0m \u001b[32m1.8/1.8 MB\u001b[0m \u001b[31m8.7 MB/s\u001b[0m eta \u001b[36m0:00:00\u001b[0m\n",
      "\u001b[?25hRequirement already satisfied: numpy>=1.14.0 in /usr/local/lib/python3.10/dist-packages (from grakel) (1.23.5)\n",
      "Requirement already satisfied: cython>=0.27.3 in /usr/local/lib/python3.10/dist-packages (from grakel) (0.29.36)\n",
      "Requirement already satisfied: scikit-learn>=0.19 in /usr/local/lib/python3.10/dist-packages (from grakel) (1.2.2)\n",
      "Requirement already satisfied: six>=1.11.0 in /usr/local/lib/python3.10/dist-packages (from grakel) (1.16.0)\n",
      "Requirement already satisfied: future>=0.16.0 in /usr/local/lib/python3.10/dist-packages (from grakel) (0.18.3)\n",
      "Requirement already satisfied: joblib in /usr/local/lib/python3.10/dist-packages (from grakel) (1.3.2)\n",
      "Requirement already satisfied: scipy>=1.3.2 in /usr/local/lib/python3.10/dist-packages (from scikit-learn>=0.19->grakel) (1.10.1)\n",
      "Requirement already satisfied: threadpoolctl>=2.0.0 in /usr/local/lib/python3.10/dist-packages (from scikit-learn>=0.19->grakel) (3.2.0)\n",
      "Installing collected packages: grakel\n",
      "Successfully installed grakel-0.1.9\n",
      "Collecting dgl\n",
      "  Downloading dgl-1.1.2-cp310-cp310-manylinux1_x86_64.whl (6.0 MB)\n",
      "\u001b[2K     \u001b[90m━━━━━━━━━━━━━━━━━━━━━━━━━━━━━━━━━━━━━━━━\u001b[0m \u001b[32m6.0/6.0 MB\u001b[0m \u001b[31m16.2 MB/s\u001b[0m eta \u001b[36m0:00:00\u001b[0m\n",
      "\u001b[?25hRequirement already satisfied: numpy>=1.14.0 in /usr/local/lib/python3.10/dist-packages (from dgl) (1.23.5)\n",
      "Requirement already satisfied: scipy>=1.1.0 in /usr/local/lib/python3.10/dist-packages (from dgl) (1.10.1)\n",
      "Requirement already satisfied: networkx>=2.1 in /usr/local/lib/python3.10/dist-packages (from dgl) (3.1)\n",
      "Requirement already satisfied: requests>=2.19.0 in /usr/local/lib/python3.10/dist-packages (from dgl) (2.31.0)\n",
      "Requirement already satisfied: tqdm in /usr/local/lib/python3.10/dist-packages (from dgl) (4.66.1)\n",
      "Requirement already satisfied: psutil>=5.8.0 in /usr/local/lib/python3.10/dist-packages (from dgl) (5.9.5)\n",
      "Requirement already satisfied: charset-normalizer<4,>=2 in /usr/local/lib/python3.10/dist-packages (from requests>=2.19.0->dgl) (3.2.0)\n",
      "Requirement already satisfied: idna<4,>=2.5 in /usr/local/lib/python3.10/dist-packages (from requests>=2.19.0->dgl) (3.4)\n",
      "Requirement already satisfied: urllib3<3,>=1.21.1 in /usr/local/lib/python3.10/dist-packages (from requests>=2.19.0->dgl) (2.0.4)\n",
      "Requirement already satisfied: certifi>=2017.4.17 in /usr/local/lib/python3.10/dist-packages (from requests>=2.19.0->dgl) (2023.7.22)\n",
      "Installing collected packages: dgl\n",
      "Successfully installed dgl-1.1.2\n",
      "Collecting umap-learn\n",
      "  Downloading umap-learn-0.5.3.tar.gz (88 kB)\n",
      "\u001b[2K     \u001b[90m━━━━━━━━━━━━━━━━━━━━━━━━━━━━━━━━━━━━━━━━\u001b[0m \u001b[32m88.2/88.2 kB\u001b[0m \u001b[31m1.6 MB/s\u001b[0m eta \u001b[36m0:00:00\u001b[0m\n",
      "\u001b[?25h  Preparing metadata (setup.py) ... \u001b[?25l\u001b[?25hdone\n",
      "Requirement already satisfied: numpy>=1.17 in /usr/local/lib/python3.10/dist-packages (from umap-learn) (1.23.5)\n",
      "Requirement already satisfied: scikit-learn>=0.22 in /usr/local/lib/python3.10/dist-packages (from umap-learn) (1.2.2)\n",
      "Requirement already satisfied: scipy>=1.0 in /usr/local/lib/python3.10/dist-packages (from umap-learn) (1.10.1)\n",
      "Requirement already satisfied: numba>=0.49 in /usr/local/lib/python3.10/dist-packages (from umap-learn) (0.56.4)\n",
      "Collecting pynndescent>=0.5 (from umap-learn)\n",
      "  Downloading pynndescent-0.5.10.tar.gz (1.1 MB)\n",
      "\u001b[2K     \u001b[90m━━━━━━━━━━━━━━━━━━━━━━━━━━━━━━━━━━━━━━━━\u001b[0m \u001b[32m1.1/1.1 MB\u001b[0m \u001b[31m11.3 MB/s\u001b[0m eta \u001b[36m0:00:00\u001b[0m\n",
      "\u001b[?25h  Preparing metadata (setup.py) ... \u001b[?25l\u001b[?25hdone\n",
      "Requirement already satisfied: tqdm in /usr/local/lib/python3.10/dist-packages (from umap-learn) (4.66.1)\n",
      "Requirement already satisfied: llvmlite<0.40,>=0.39.0dev0 in /usr/local/lib/python3.10/dist-packages (from numba>=0.49->umap-learn) (0.39.1)\n",
      "Requirement already satisfied: setuptools in /usr/local/lib/python3.10/dist-packages (from numba>=0.49->umap-learn) (67.7.2)\n",
      "Requirement already satisfied: joblib>=0.11 in /usr/local/lib/python3.10/dist-packages (from pynndescent>=0.5->umap-learn) (1.3.2)\n",
      "Requirement already satisfied: threadpoolctl>=2.0.0 in /usr/local/lib/python3.10/dist-packages (from scikit-learn>=0.22->umap-learn) (3.2.0)\n",
      "Building wheels for collected packages: umap-learn, pynndescent\n",
      "  Building wheel for umap-learn (setup.py) ... \u001b[?25l\u001b[?25hdone\n",
      "  Created wheel for umap-learn: filename=umap_learn-0.5.3-py3-none-any.whl size=82807 sha256=04d2c0285f7b2b0c047e9670ffe6bb69fa4f59568d48eba2525fcafec4a707b2\n",
      "  Stored in directory: /root/.cache/pip/wheels/a0/e8/c6/a37ea663620bd5200ea1ba0907ab3c217042c1d035ef606acc\n",
      "  Building wheel for pynndescent (setup.py) ... \u001b[?25l\u001b[?25hdone\n",
      "  Created wheel for pynndescent: filename=pynndescent-0.5.10-py3-none-any.whl size=55615 sha256=e7a92ff0d46e47afaeeea414fc5d3cac6fa44653e32bdfe765b907989e7b99c7\n",
      "  Stored in directory: /root/.cache/pip/wheels/4a/38/5d/f60a40a66a9512b7e5e83517ebc2d1b42d857be97d135f1096\n",
      "Successfully built umap-learn pynndescent\n",
      "Installing collected packages: pynndescent, umap-learn\n",
      "Successfully installed pynndescent-0.5.10 umap-learn-0.5.3\n",
      "\u001b[2K     \u001b[90m━━━━━━━━━━━━━━━━━━━━━━━━━━━━━━━━━━━━━━━━\u001b[0m \u001b[32m12.7/12.7 MB\u001b[0m \u001b[31m36.8 MB/s\u001b[0m eta \u001b[36m0:00:00\u001b[0m\n",
      "\u001b[2K     \u001b[90m━━━━━━━━━━━━━━━━━━━━━━━━━━━━━━━━━━━━━━━━\u001b[0m \u001b[32m49.6/49.6 kB\u001b[0m \u001b[31m5.2 MB/s\u001b[0m eta \u001b[36m0:00:00\u001b[0m\n",
      "\u001b[?25hSelecting previously unselected package coinor-libcoinutils3v5:amd64.\n",
      "(Reading database ... 120901 files and directories currently installed.)\n",
      "Preparing to unpack .../0-coinor-libcoinutils3v5_2.11.4+repack1-2_amd64.deb ...\n",
      "Unpacking coinor-libcoinutils3v5:amd64 (2.11.4+repack1-2) ...\n",
      "Selecting previously unselected package coinor-libosi1v5:amd64.\n",
      "Preparing to unpack .../1-coinor-libosi1v5_0.108.6+repack1-2_amd64.deb ...\n",
      "Unpacking coinor-libosi1v5:amd64 (0.108.6+repack1-2) ...\n",
      "Selecting previously unselected package coinor-libclp1.\n",
      "Preparing to unpack .../2-coinor-libclp1_1.17.5+repack1-1_amd64.deb ...\n",
      "Unpacking coinor-libclp1 (1.17.5+repack1-1) ...\n",
      "Selecting previously unselected package coinor-libcgl1:amd64.\n",
      "Preparing to unpack .../3-coinor-libcgl1_0.60.3+repack1-3_amd64.deb ...\n",
      "Unpacking coinor-libcgl1:amd64 (0.60.3+repack1-3) ...\n",
      "Selecting previously unselected package coinor-libcbc3:amd64.\n",
      "Preparing to unpack .../4-coinor-libcbc3_2.10.7+ds1-1_amd64.deb ...\n",
      "Unpacking coinor-libcbc3:amd64 (2.10.7+ds1-1) ...\n",
      "Selecting previously unselected package coinor-cbc.\n",
      "Preparing to unpack .../5-coinor-cbc_2.10.7+ds1-1_amd64.deb ...\n",
      "Unpacking coinor-cbc (2.10.7+ds1-1) ...\n",
      "Setting up coinor-libcoinutils3v5:amd64 (2.11.4+repack1-2) ...\n",
      "Setting up coinor-libosi1v5:amd64 (0.108.6+repack1-2) ...\n",
      "Setting up coinor-libclp1 (1.17.5+repack1-1) ...\n",
      "Setting up coinor-libcgl1:amd64 (0.60.3+repack1-3) ...\n",
      "Setting up coinor-libcbc3:amd64 (2.10.7+ds1-1) ...\n",
      "Setting up coinor-cbc (2.10.7+ds1-1) ...\n",
      "Processing triggers for man-db (2.10.2-1) ...\n",
      "Processing triggers for libc-bin (2.35-0ubuntu3.1) ...\n",
      "/sbin/ldconfig.real: /usr/local/lib/libtbbmalloc_proxy.so.2 is not a symbolic link\n",
      "\n",
      "/sbin/ldconfig.real: /usr/local/lib/libtbbmalloc.so.2 is not a symbolic link\n",
      "\n",
      "/sbin/ldconfig.real: /usr/local/lib/libtbbbind.so.3 is not a symbolic link\n",
      "\n",
      "/sbin/ldconfig.real: /usr/local/lib/libtbbbind_2_5.so.3 is not a symbolic link\n",
      "\n",
      "/sbin/ldconfig.real: /usr/local/lib/libtbbbind_2_0.so.3 is not a symbolic link\n",
      "\n",
      "/sbin/ldconfig.real: /usr/local/lib/libtbb.so.12 is not a symbolic link\n",
      "\n"
     ]
    },
    {
     "name": "stderr",
     "output_type": "stream",
     "text": [
      "DGL backend not selected or invalid.  Assuming PyTorch for now.\n"
     ]
    },
    {
     "name": "stdout",
     "output_type": "stream",
     "text": [
      "Setting the default backend to \"pytorch\". You can change it in the ~/.dgl/config.json file or export the DGLBACKEND environment variable.  Valid options are: pytorch, mxnet, tensorflow (all lowercase)\n",
      "Import Required Libraries Done!\n"
     ]
    }
   ],
   "source": [
    "import random\n",
    "import numpy as np\n",
    "import shutil\n",
    "import sys\n",
    "import os.path\n",
    "import json\n",
    "from scipy.stats import norm\n",
    "import matplotlib.pyplot as plt\n",
    "import seaborn as sns\n",
    "\n",
    "\n",
    "if not shutil.which(\"rdkit\"):\n",
    "    !pip install -q rdkit\n",
    "\n",
    "from rdkit import Chem\n",
    "from rdkit.Chem import Draw\n",
    "from rdkit.Chem.Draw import IPythonConsole\n",
    "\n",
    "if not shutil.which(\"grakel\"):\n",
    "    !pip install grakel\n",
    "\n",
    "if not shutil.which(\"dgl\"):\n",
    "    !pip install dgl\n",
    "\n",
    "if not shutil.which(\"umap\"):\n",
    "    !pip install umap-learn\n",
    "\n",
    "if not shutil.which(\"pyomo\"):\n",
    "    !pip install -q pyomo\n",
    "    assert shutil.which(\"pyomo\")\n",
    "\n",
    "from pyomo.environ import *\n",
    "\n",
    "if not (shutil.which(\"cbc\") or os.path.isfile(\"cbc\")):\n",
    "    if \"google.colab\" in sys.modules:\n",
    "        !apt-get install -y -qq coinor-cbc\n",
    "    else:\n",
    "        try:\n",
    "            !conda install -c conda-forge coincbc\n",
    "        except:\n",
    "            pass\n",
    "\n",
    "assert shutil.which(\"cbc\") or os.path.isfile(\"cbc\")\n",
    "\n",
    "from utils.load_networkx import networkx_feat\n",
    "from utils import macro_unsupervised as unsup\n",
    "from utils import plot\n",
    "\n",
    "print(\"Import Required Libraries Done!\")"
   ]
  },
  {
   "cell_type": "markdown",
   "metadata": {
    "id": "YteAN12TdcD2"
   },
   "source": [
    "# Load the First-order Markov Copolymer Ensembles in Example 2.\n",
    "\n",
    "## First-order Markov Copolymer\n",
    "\n",
    "<img src=\"https://drive.google.com/uc?export=view&id=1DnQjZF7Dl70VLSC4LkEwvMwA1POARHC8\"  width=\"50%\">\n",
    "\n",
    "Where blue circle is R0 and red circle is R1.\n",
    "\n",
    "Due to the rules of probability, the sum of the transition probabilities for the addition to ~R0  and ~R1,  are each separately equal to 1. Therefore,\n",
    "\n",
    "$ t_{00}+t_{01}=1$\n",
    "\n",
    "$ t_{10}+t_{11}=1$\n",
    "\n",
    "The first-order Markov process can thus be specified by two independent parameters: (i) the average fraction of R1 in a copolymer chain, $f_{R1}$\n",
    "\n",
    "$f_{R1} = f_{R1} \\cdot t_{11}  +(1-f_{R1} ) \\cdot t_{01}$\n",
    "\n",
    "and (ii) λ which defines the correlations in the linear repeat unit sequence.\n",
    "\n",
    "$\\lambda=t_{00}+ t_{11}  -1$\n",
    "\n",
    "Here copolymer ensembles are studied with the setting $f_{R0} = f_{R1} = 0.5$, where the average fractions of R0 and R1 are the same in a copolymer chain. Consequently, $t_{00}$, $t_{01}$, $t_{10}$ and $t_{11}$ are solely determined by $\\lambda$.\n",
    "\n",
    "$t_{00}=t_{11}=\\frac{1+\\lambda}{2}$\n",
    "\n",
    "$t_{01}=t_{10}=\\frac{1-\\lambda}{2}$\n",
    "\n",
    "By modifying the value of $\\lambda$, different copolymer ensembles $P(\\lambda)$ can be generated. In this example, a series of polymer ensembles are generated for $\\lambda$=-1.0 to 1.0 in increments of 0.5. All chains have a fixed length $L=10$.\n",
    "\n",
    "For the case of $\\lambda=-1.0$, the polymer ensemble $P_(\\lambda=-1.0)$ has two sequences with equal probability, R0-R1-R0-R1-R0-R1-R0-R1-R0-R1 and  R1-R0-R1-R0-R1-R0-R1-R0-R1-R0.\n",
    "\n",
    "For the case of $\\lambda=1.0$, the polymer ensemble $P_(\\lambda=1.0)$ has only two sequences with equal probability R0-R0-R0-R0-R0-R0-R0-R0-R0-R0 and  R1-R1-R1-R1-R1-R1-R1-R1-R1-R1.\n",
    "\n",
    "Apart from these two special cases, polymer ensembles generated by other $\\lambda=1.0$ values [-0.5, 0.0, 0.5] are sampled by following the above first-order Markov process for $3\\times10^7$ polymer chains. Check the first-order Markov Copolymer Ensemble generation code [first_order_markov_coplymer_ensemble_generation.py](https://github.com/olsenlabmit/Polymer-Ensemble-Similarity/blob/main/dataset/Example2/first_order_markov_coplymer_ensemble_generation.py) to see how these ensembles are generated.\n"
   ]
  },
  {
   "cell_type": "markdown",
   "metadata": {
    "id": "2DvcglBLxssN"
   },
   "source": [
    "## Graph Representation Index Sort Function\n",
    "\n",
    "For example, a first-order copolymer chain is R0-R0-R1-R1-R0-R0-R1-R1-R0-R1.\n",
    "\n",
    "The label for this coplymer chain is \"ID0011001101\".\n",
    "\n",
    "The corresponding graph txt file in the dataset is \"ID001100110_graph.txt\"\n",
    "\n",
    "These graph representations are stored in dict format, which is a python dictionary. The dictionary does not have order. Therefore, we need to have some sort functions to call them in order according their labels (keys).\n"
   ]
  },
  {
   "cell_type": "code",
   "execution_count": 10,
   "metadata": {
    "id": "wloBCboDsPhM"
   },
   "outputs": [],
   "source": [
    "# \"ID0000000000\", \"ID1000000000\", \"ID0100000000\", \"ID1100000000\", ......\n",
    "# These graph representation labels (keys) are alphabet \"ID\", and one binary number.\n",
    "# The alphabet is constant, and the binary number is varying.\n",
    "# Therefore, we use the binary number for sort function.\n",
    "# The sort function depends on how the graph labels are created.\n",
    "def sortFunc(index):\n",
    "    return index[2:]"
   ]
  },
  {
   "cell_type": "markdown",
   "metadata": {
    "id": "hzjj-4AEssfC"
   },
   "source": [
    "\n",
    "\n",
    "**Variables**:\n",
    "\n",
    "networkx_feat: the function for loading the graph representations of each type polymer chain in one polymer ensemble.\n",
    "\n",
    "TXT_DATA_PATH: the path for ensemble dataset where each polymer chain graph representation is stored as a txt file.\n",
    "\n",
    "MON_SMILES: the text file for repeat units\n",
    "\n",
    "FEAT: Type of fatures for polymer chain repeat units -- one-hot encoding ('onehot') or fingerprints ('fp')\n",
    "\n",
    "To understand how to generate the txt files for polymer chains, please check the dataset [README.md](https://github.com/olsenlabmit/Polymer-Ensemble-Similarity/blob/main/dataset/README.md)."
   ]
  },
  {
   "cell_type": "markdown",
   "metadata": {
    "id": "rI9p2rKXc-Dv"
   },
   "source": [
    "In this notebook, we use fingerprint encoding where blue circle represents the repeat unit “\\*CC(\\*)c1ccccc1” (the repeat unit of polystyrene, and\n",
    "the red circle represents the repeat unit “\\*CC(\\*)c1ccc(C(=O)OC)cc1” (the repeat unit of Poly(methyl 4-vinylbenzoate), as shown in the following image.\n",
    "\n",
    "<img src=\"https://drive.google.com/uc?export=view&id=15l-Znn8VYoSlB5Sr5bxTnmnz8lcKnf3n\"  width=\"30%\">\n",
    "\n",
    "Users may change the R0 and R1 in \"tables/SMILES_repeatunit.txt\" to represent other repeat units."
   ]
  },
  {
   "cell_type": "markdown",
   "metadata": {
    "id": "djHVBmIaFlbp"
   },
   "source": [
    "## Load Graph Representations and Weights in Ensemble $P(\\lambda=1.0)$"
   ]
  },
  {
   "cell_type": "code",
   "execution_count": 11,
   "metadata": {
    "id": "uwJvO6PjYKeK"
   },
   "outputs": [],
   "source": [
    "Ensemble_lambda_P10 = networkx_feat(\n",
    "    TXT_DATA_PATH=\"./dataset/Example2/Ensemble_lambda_P10/\",\n",
    "    MON_SMILES=\"tables/SMILES_repeatunit.txt\",\n",
    "    FEAT=\"fp\",\n",
    ")\n",
    "\n",
    "with open(\"./dataset/Example2/Ensemble_lambda_P10_weight.json\", \"r\") as json_file:\n",
    "    Ensemble_lambda_P10_weight = json.load(json_file)"
   ]
  },
  {
   "cell_type": "markdown",
   "metadata": {
    "id": "tqo_26zLNkfN"
   },
   "source": [
    "## Visualize Graph Representations in Ensemble $P(\\lambda=1.0)$"
   ]
  },
  {
   "cell_type": "code",
   "execution_count": 12,
   "metadata": {
    "colab": {
     "base_uri": "https://localhost:8080/",
     "height": 1000
    },
    "id": "pAIdxDmcMTCY",
    "outputId": "3a7d087b-ab64-4cb2-ef15-7d5524023e8b"
   },
   "outputs": [
    {
     "name": "stdout",
     "output_type": "stream",
     "text": [
      "ID0000000000: \n"
     ]
    },
    {
     "data": {
      "image/png": "[encoded data removed]",
      "text/plain": [
       "<Figure size 800x800 with 1 Axes>"
      ]
     },
     "metadata": {},
     "output_type": "display_data"
    },
    {
     "name": "stdout",
     "output_type": "stream",
     "text": [
      "{0: 'R0', 1: 'R0', 2: 'R0', 3: 'R0', 4: 'R0', 5: 'R0', 6: 'R0', 7: 'R0', 8: 'R0', 9: 'R0'}\n",
      "\n",
      "\n",
      "\n",
      "\n",
      "ID1111111111: \n"
     ]
    },
    {
     "data": {
      "image/png": "[encoded data removed]",
      "text/plain": [
       "<Figure size 800x800 with 1 Axes>"
      ]
     },
     "metadata": {},
     "output_type": "display_data"
    },
    {
     "name": "stdout",
     "output_type": "stream",
     "text": [
      "{0: 'R1', 1: 'R1', 2: 'R1', 3: 'R1', 4: 'R1', 5: 'R1', 6: 'R1', 7: 'R1', 8: 'R1', 9: 'R1'}\n",
      "\n",
      "\n",
      "\n",
      "\n"
     ]
    }
   ],
   "source": [
    "Ensemble_lambda_P10_indexs = list(Ensemble_lambda_P10.keys())\n",
    "Ensemble_lambda_P10_indexs.sort(key=sortFunc)\n",
    "\n",
    "for i in range(0, len(Ensemble_lambda_P10_indexs)):\n",
    "    print(Ensemble_lambda_P10_indexs[i] + \": \")\n",
    "    plot.graph(Ensemble_lambda_P10[Ensemble_lambda_P10_indexs[i]])\n",
    "    print(\"\\n\")\n",
    "    print(\"\\n\")"
   ]
  },
  {
   "cell_type": "markdown",
   "metadata": {
    "id": "NiA5K6ZOFwE6"
   },
   "source": [
    "## Load Graph Representations and Weights in Ensemble $P(\\lambda=0.5)$"
   ]
  },
  {
   "cell_type": "code",
   "execution_count": 13,
   "metadata": {
    "id": "SFSyQ-Ec9DzM"
   },
   "outputs": [],
   "source": [
    "Ensemble_lambda_P05 = networkx_feat(\n",
    "    TXT_DATA_PATH=\"./dataset/Example2/Ensemble_lambda_P05/\",\n",
    "    MON_SMILES=\"tables/SMILES_repeatunit.txt\",\n",
    "    FEAT=\"fp\",\n",
    ")\n",
    "\n",
    "with open(\"./dataset/Example2/Ensemble_lambda_P05_weight.json\", \"r\") as json_file:\n",
    "    Ensemble_lambda_P05_weight = json.load(json_file)"
   ]
  },
  {
   "cell_type": "markdown",
   "metadata": {
    "id": "IPeYtG7YN9l9"
   },
   "source": [
    "## Visualize Graph Representations in Ensemble $P(\\lambda=0.5)$"
   ]
  },
  {
   "cell_type": "code",
   "execution_count": 14,
   "metadata": {
    "id": "kSb2rJonOCLo"
   },
   "outputs": [],
   "source": [
    "# Ensemble $P(\\lambda=0.5)$ has 1024 types of polymer molecules.\n",
    "# Uncomment the following code if you want to visualize them.\n",
    "\n",
    "# Ensemble_lambda_P05_indexs = list(Ensemble_lambda_P05.keys())\n",
    "# Ensemble_lambda_P05_indexs.sort(key=sortFunc)\n",
    "\n",
    "# for i in range(0,len(Ensemble_lambda_P05_indexs)):\n",
    "#    print(Ensemble_lambda_P05_indexs[i]+\": \")\n",
    "#    plot.graph(Ensemble_lambda_P05[Ensemble_lambda_P05_indexs[i]])\n",
    "#    print(\"\\n\")\n",
    "#    print(\"\\n\")"
   ]
  },
  {
   "cell_type": "markdown",
   "metadata": {
    "id": "MOoTl5baF1c7"
   },
   "source": [
    "## Load Graph Representations and Weights in Ensemble $P(\\lambda=0.0)$"
   ]
  },
  {
   "cell_type": "code",
   "execution_count": 15,
   "metadata": {
    "id": "-CQd-15N9WIo"
   },
   "outputs": [],
   "source": [
    "Ensemble_lambda_00 = networkx_feat(\n",
    "    TXT_DATA_PATH=\"./dataset/Example2/Ensemble_lambda_00/\",\n",
    "    MON_SMILES=\"tables/SMILES_repeatunit.txt\",\n",
    "    FEAT=\"fp\",\n",
    ")\n",
    "\n",
    "with open(\"./dataset/Example2/Ensemble_lambda_00_weight.json\", \"r\") as json_file:\n",
    "    Ensemble_lambda_00_weight = json.load(json_file)"
   ]
  },
  {
   "cell_type": "markdown",
   "metadata": {
    "id": "abaUuzMtOGwF"
   },
   "source": [
    "## Visualize Graph Representations in Ensemble $P(\\lambda=0.0)$"
   ]
  },
  {
   "cell_type": "code",
   "execution_count": 16,
   "metadata": {
    "id": "ZTKX9tfjO7Gt"
   },
   "outputs": [],
   "source": [
    "# Ensemble $P(\\lambda=0.0)$ has 1024 types of polymer molecules.\n",
    "# Uncomment the following code if you want to visualize them.\n",
    "\n",
    "# Ensemble_lambda_00_indexs = list(Ensemble_lambda_00.keys())\n",
    "# Ensemble_lambda_00_indexs.sort(key=sortFunc)\n",
    "\n",
    "# for i in range(0,len(Ensemble_lambda_00_indexs)):\n",
    "#    print(Ensemble_lambda_00_indexs[i]+\": \")\n",
    "#    plot.graph(Ensemble_lambda_00[Ensemble_lambda_00_indexs[i]])\n",
    "#    print(\"\\n\")\n",
    "#    print(\"\\n\")"
   ]
  },
  {
   "cell_type": "markdown",
   "metadata": {
    "id": "0mPmqwc4F_Tf"
   },
   "source": [
    "## Load Graph Representations and Weights in Ensemble $P(\\lambda=-0.5)$"
   ]
  },
  {
   "cell_type": "code",
   "execution_count": 17,
   "metadata": {
    "id": "bG1lHtFF9QqY"
   },
   "outputs": [],
   "source": [
    "Ensemble_lambda_N05 = networkx_feat(\n",
    "    TXT_DATA_PATH=\"./dataset/Example2/Ensemble_lambda_N05/\",\n",
    "    MON_SMILES=\"tables/SMILES_repeatunit.txt\",\n",
    "    FEAT=\"fp\",\n",
    ")\n",
    "\n",
    "with open(\"./dataset/Example2/Ensemble_lambda_N05_weight.json\", \"r\") as json_file:\n",
    "    Ensemble_lambda_N05_weight = json.load(json_file)"
   ]
  },
  {
   "cell_type": "markdown",
   "metadata": {
    "id": "7VqrVM9xOMyR"
   },
   "source": [
    "## Visualize Graph Representations in Ensemble $P(\\lambda=-0.5)$"
   ]
  },
  {
   "cell_type": "code",
   "execution_count": 18,
   "metadata": {
    "id": "rXbnIchlOb-Z"
   },
   "outputs": [],
   "source": [
    "# Ensemble $P(\\lambda=-0.5)$ has 1024 types of polymer molecules.\n",
    "# Uncomment the following code if you want to visualize them.\n",
    "\n",
    "# Ensemble_lambda_N05_indexs = list(Ensemble_lambda_N05.keys())\n",
    "# Ensemble_lambda_N05_indexs.sort(key=sortFunc)\n",
    "\n",
    "# for i in range(0,len(Ensemble_lambda_N05_indexs)):\n",
    "#    print(Ensemble_lambda_N05_indexs[i]+\": \")\n",
    "#    plot.graph(Ensemble_lambda_N05[Ensemble_lambda_N05_indexs[i]])\n",
    "#    print(\"\\n\")\n",
    "#    print(\"\\n\")"
   ]
  },
  {
   "cell_type": "markdown",
   "metadata": {
    "id": "1uKaOLiGGCvX"
   },
   "source": [
    "## Load Graph Representations and Weights in Ensemble $P(\\lambda=-1.0)$"
   ]
  },
  {
   "cell_type": "code",
   "execution_count": 19,
   "metadata": {
    "id": "ydDTqwWv5uPD"
   },
   "outputs": [],
   "source": [
    "Ensemble_lambda_N10 = networkx_feat(\n",
    "    TXT_DATA_PATH=\"./dataset/Example2/Ensemble_lambda_N10/\",\n",
    "    MON_SMILES=\"tables/SMILES_repeatunit.txt\",\n",
    "    FEAT=\"fp\",\n",
    ")\n",
    "\n",
    "with open(\"./dataset/Example2/Ensemble_lambda_N10_weight.json\", \"r\") as json_file:\n",
    "    Ensemble_lambda_N10_weight = json.load(json_file)"
   ]
  },
  {
   "cell_type": "markdown",
   "metadata": {
    "id": "rbF-LZgtNtZq"
   },
   "source": [
    "## Visualize Graph Representations in Ensemble $P(\\lambda=-1.0)$"
   ]
  },
  {
   "cell_type": "code",
   "execution_count": 20,
   "metadata": {
    "colab": {
     "base_uri": "https://localhost:8080/",
     "height": 1000
    },
    "id": "fOJjvUPIL2C1",
    "outputId": "cb32e887-6418-415e-9acf-943c560b74b3"
   },
   "outputs": [
    {
     "name": "stdout",
     "output_type": "stream",
     "text": [
      "ID0101010101: \n"
     ]
    },
    {
     "data": {
      "image/png": "[encoded data removed]",
      "text/plain": [
       "<Figure size 800x800 with 1 Axes>"
      ]
     },
     "metadata": {},
     "output_type": "display_data"
    },
    {
     "name": "stdout",
     "output_type": "stream",
     "text": [
      "{0: 'R0', 1: 'R1', 2: 'R0', 3: 'R1', 4: 'R0', 5: 'R1', 6: 'R0', 7: 'R1', 8: 'R0', 9: 'R1'}\n",
      "\n",
      "\n",
      "\n",
      "\n",
      "ID1010101010: \n"
     ]
    },
    {
     "data": {
      "image/png": "[encoded data removed]",
      "text/plain": [
       "<Figure size 800x800 with 1 Axes>"
      ]
     },
     "metadata": {},
     "output_type": "display_data"
    },
    {
     "name": "stdout",
     "output_type": "stream",
     "text": [
      "{0: 'R1', 1: 'R0', 2: 'R1', 3: 'R0', 4: 'R1', 5: 'R0', 6: 'R1', 7: 'R0', 8: 'R1', 9: 'R0'}\n",
      "\n",
      "\n",
      "\n",
      "\n"
     ]
    }
   ],
   "source": [
    "Ensemble_lambda_N10_indexs = list(Ensemble_lambda_N10.keys())\n",
    "Ensemble_lambda_N10_indexs.sort(key=sortFunc)\n",
    "\n",
    "for i in range(0, len(Ensemble_lambda_N10_indexs)):\n",
    "    print(Ensemble_lambda_N10_indexs[i] + \": \")\n",
    "    plot.graph(Ensemble_lambda_N10[Ensemble_lambda_N10_indexs[i]])\n",
    "    print(\"\\n\")\n",
    "    print(\"\\n\")"
   ]
  },
  {
   "cell_type": "markdown",
   "metadata": {
    "id": "e0uCMi7Udzb9"
   },
   "source": [
    "# Polymer Ensembles Similarity Function via Earth Mover's Distance\n",
    "\n",
    "Use the earth mover's distance (EMD) to compute pairwise similarity scores between polymer ensembles.\n",
    "\n",
    "\n",
    "$ EMD (P,Q)= \\min_{F}\\sum_{i=1}^{m}\\sum_{j=1}^{n}f_{i,j}d_{i,j}$\n",
    "\n",
    "$ {\\rm subject\\ to\\ } f_{i,j} \\geq 0, {\\rm\\ for\\ any\\ } \\ 1 \\leq i \\leq m, 1 \\leq j \\leq n $\n",
    "\n",
    "$     \\sum_{j=1}^{n}f_{i,j} =w_{pi}, {\\rm for\\ any} \\ 1 \\leq i \\leq m $\n",
    "\n",
    "$     \\sum_{i=1}^{m}f_{i,j} =w_{qj}, {\\rm for\\ any} \\ 1 \\leq j \\leq n $\n",
    "\n",
    "$     \\sum_{i=1}^{m}\\sum_{j=1}^{n}f_{i,j} = \\sum_{i}^{m} w_{pi} = \\sum_{j}^{n} w_{qj} = 1 $\n",
    "\n",
    "\n",
    "One polymer ensemble is defined as $P = \\{(p_1,w_{p_1}) ,(p_2,w_{p_2}),...,(p_i,w_{p_i}),...,(p_m,w_{p_m})\\}$ has $m$ types of polymer chains, where $p_i$ represents a type of polymer chain and  $w_{p_i}>0$ is its corresponding weight, which can be the mole fraction of this polymer chain in the polymer ensemble. Similarly, the second ensemble $Q = {(q_1,w_{q_1}),(q_2,w_{q_2}),...,(q_j,w_{q_j}),...,(q_n,w_{q_n})}$ has $n$ types of polymer chains. The sums of the weights for $P$ and $Q$ are both normalized and equal to one.\n",
    "\n",
    "The EMD linear optimization code  refers to [Transportation Networks, ND Pyomo Notebook](https://jckantor.github.io/ND-Pyomo-Cookbook/notebooks/03.01-Transportation-Networks.html)\n",
    "\n",
    "Once $EMD (P,Q)$ is calculated, the similarity score between $P$ and $Q$ is\n",
    "\n",
    "$S(P,Q) = 1- EMD (P,Q)$\n",
    "\n",
    "\n",
    "The distance ($d_{i,j}$) between one polymer molecule $p_i$ and another polymer molecule $q_j$ is calculated through graph edit distance. This part of the code builds on [GLAMOUR](https://github.com/learningmatter-mit/GLAMOUR) and networkx function [graph_edit_distance](https://networkx.org/documentation/stable/reference/algorithms/generated/networkx.algorithms.similarity.graph_edit_distance.html).\n",
    "\n",
    "$d(g_1, g_2) = 1- \\exp(-\\frac{\\alpha \\cdot GED(g_1, g_2)}{(N_1 + N_2)/2})$\n",
    "\n",
    "where $g_i$ is the graph representation of one polymer molecule, $N_i$ is the number of nodes in graph $g_i$, $\\alpha$ is a tunable parameter with the default value being 1. [Reference1](https://arxiv.org/abs/1808.05689), [Reference2](https://doi.org/10.1021/acs.macromol.3c00761)"
   ]
  },
  {
   "cell_type": "code",
   "execution_count": 21,
   "metadata": {
    "id": "VkvicUCoMTFZ"
   },
   "outputs": [],
   "source": [
    "def Similarity_Score_EMD_Calculation(\n",
    "    ensembleP=None,\n",
    "    ensembleP_weight=None,\n",
    "    ensembleQ=None,\n",
    "    ensembleQ_weight=None,\n",
    "    alpha=1,\n",
    "    print_details=False,\n",
    "):\n",
    "    # Data loading w_i, w_j, d_ij\n",
    "\n",
    "    ## load the weight w_i of Ensemble P\n",
    "    Demand = {}\n",
    "\n",
    "    ensembleP_number = len(ensembleP_weight)\n",
    "\n",
    "    ensembleP_weight_sum = sum(ensembleP_weight.values())\n",
    "\n",
    "    ensembleP_indexs = list(ensembleP.keys())\n",
    "    ensembleP_indexs.sort(key=sortFunc)\n",
    "\n",
    "    for i in range(0, ensembleP_number):\n",
    "        Demand[\"p\" + str(i + 1)] = (\n",
    "            ensembleP_weight[ensembleP_indexs[i]] / ensembleP_weight_sum\n",
    "        )\n",
    "\n",
    "    ## load the weight w_j of Ensemble Q\n",
    "    Supply = {}\n",
    "\n",
    "    ensembleQ_number = len(ensembleQ_weight)\n",
    "\n",
    "    ensembleQ_weight_sum = sum(ensembleQ_weight.values())\n",
    "\n",
    "    ensembleQ_indexs = list(ensembleQ.keys())\n",
    "    ensembleQ_indexs.sort(key=sortFunc)\n",
    "\n",
    "    for j in range(0, ensembleQ_number):\n",
    "        Supply[\"q\" + str(j + 1)] = (\n",
    "            ensembleQ_weight[ensembleQ_indexs[j]] / ensembleQ_weight_sum\n",
    "        )\n",
    "\n",
    "    ## load the distance matrix D = [d_ij]\n",
    "    D = {}\n",
    "    for i in range(0, ensembleP_number):\n",
    "        for j in range(0, ensembleQ_number):\n",
    "            ### calculate the GED between two graph representations\n",
    "            GED = unsup.edit_distance(\n",
    "                ensembleP[ensembleP_indexs[i]],\n",
    "                ensembleQ[ensembleQ_indexs[j]],\n",
    "                node_attr=\"h\",\n",
    "                indel_mul=1,\n",
    "                sub_mul=1,\n",
    "            )\n",
    "\n",
    "            ### calculate the number of nodes in graph N_i\n",
    "            N_i = ensembleP[ensembleP_indexs[i]].number_of_nodes()\n",
    "\n",
    "            ### calculate the number of nodes in graph N_j\n",
    "            N_j = ensembleQ[ensembleQ_indexs[j]].number_of_nodes()\n",
    "\n",
    "            D[(\"p\" + str(i + 1), \"q\" + str(j + 1))] = 1 - np.exp(\n",
    "                -alpha * GED / (0.5 * (N_i + N_j))\n",
    "            )\n",
    "\n",
    "    # The following are optimization steps\n",
    "    ## Step 0: Create an instance of the model\n",
    "    model = ConcreteModel()\n",
    "    model.dual = Suffix(direction=Suffix.IMPORT)\n",
    "\n",
    "    ## Step 1: Define index sets\n",
    "    CUS = list(Demand.keys())\n",
    "    SRC = list(Supply.keys())\n",
    "\n",
    "    ## Step 2: Define the decision\n",
    "    model.x = Var(CUS, SRC, domain=NonNegativeReals)\n",
    "\n",
    "    ## Step 3: Define the objective\n",
    "    model.Cost = Objective(\n",
    "        expr=sum([D[c, s] * model.x[c, s] for c in CUS for s in SRC]), sense=minimize\n",
    "    )\n",
    "\n",
    "    ## Step 4: Add constraints\n",
    "    model.src = ConstraintList()\n",
    "    for s in SRC:\n",
    "        model.src.add(sum([model.x[c, s] for c in CUS]) <= Supply[s])\n",
    "\n",
    "    model.dmd = ConstraintList()\n",
    "    for c in CUS:\n",
    "        model.dmd.add(sum([model.x[c, s] for s in SRC]) == Demand[c])\n",
    "\n",
    "    ## Step 5: Call the cbc solver to solve this EMD problem\n",
    "    results = SolverFactory(\"cbc\").solve(model)\n",
    "\n",
    "    ## Step 6: Return EMD result\n",
    "    if \"ok\" == str(results.Solver.status):\n",
    "        if print_details == True:\n",
    "            for s in SRC:\n",
    "                for c in CUS:\n",
    "                    if model.x[c, s]() > 0:\n",
    "                        print(\n",
    "                            \"Ship from \",\n",
    "                            s,\n",
    "                            \" to \",\n",
    "                            c,\n",
    "                            \":\",\n",
    "                            model.x[c, s](),\n",
    "                            \"*\",\n",
    "                            D[c, s],\n",
    "                        )\n",
    "        return 1 - model.Cost()\n",
    "\n",
    "    else:\n",
    "        print(\"No Valid Solution Found\")\n",
    "        return False"
   ]
  },
  {
   "cell_type": "markdown",
   "metadata": {
    "id": "lpFPLOC7d3DI"
   },
   "source": [
    "# Calculation of $S(P(\\lambda=1.0),P(\\lambda=-1.0))$"
   ]
  },
  {
   "cell_type": "code",
   "execution_count": 22,
   "metadata": {
    "id": "ziOxwdOrwerL"
   },
   "outputs": [],
   "source": [
    "Similarity_Score = Similarity_Score_EMD_Calculation(\n",
    "    ensembleP=Ensemble_lambda_P10,\n",
    "    ensembleP_weight=Ensemble_lambda_P10_weight,\n",
    "    ensembleQ=Ensemble_lambda_N10,\n",
    "    ensembleQ_weight=Ensemble_lambda_N10_weight,\n",
    "    alpha=1,\n",
    "    print_details=False,\n",
    ")"
   ]
  },
  {
   "cell_type": "code",
   "execution_count": 23,
   "metadata": {
    "colab": {
     "base_uri": "https://localhost:8080/"
    },
    "id": "_Z2phPpt1hr5",
    "outputId": "fced87de-2877-48b0-fd64-77416bae352c"
   },
   "outputs": [
    {
     "name": "stdout",
     "output_type": "stream",
     "text": [
      "Similarity Score between P(λ=1.0) and P(λ=-1.0) = 0.75\n"
     ]
    }
   ],
   "source": [
    "print(\"Similarity Score between P(λ=1.0) and P(λ=-1.0) = %.2f\" % Similarity_Score)"
   ]
  },
  {
   "cell_type": "markdown",
   "metadata": {
    "id": "N2MQ6BPDROGR"
   },
   "source": [
    "# Calculation of All the Pairwise $S(P(\\lambda_1),P(\\lambda_2))$\n",
    "\n",
    "This step will take a long time."
   ]
  },
  {
   "cell_type": "code",
   "execution_count": 24,
   "metadata": {
    "id": "dYATWiF1QShA"
   },
   "outputs": [],
   "source": [
    "# Users can uncomment the following to calculate all the pairwise\n",
    "# similarity scores between polymer ensembles.\n",
    "# This step will take a long time.\n",
    "\n",
    "\n",
    "# Example2_Ensembles = [\n",
    "#    Ensemble_lambda_P10,\n",
    "#    Ensemble_lambda_P05,\n",
    "#    Ensemble_lambda_00,\n",
    "#    Ensemble_lambda_N05,\n",
    "#    Ensemble_lambda_N10]\n",
    "\n",
    "# Example2_Ensembles_weights = [\n",
    "#    Ensemble_lambda_P10_weight,\n",
    "#    Ensemble_lambda_P05_weight,\n",
    "#    Ensemble_lambda_00_weight,\n",
    "#    Ensemble_lambda_N05_weight,\n",
    "#    Ensemble_lambda_N10_weight]\n",
    "\n",
    "# Example2_Ensembles_names = [\n",
    "#    \"P(λ=1.0)\",\n",
    "#    \"P(λ=0.5)\",\n",
    "#    \"P(λ=0.0)\",\n",
    "#    \"P(λ=0.5)\",\n",
    "#    \"P(λ=-1.0)\"]\n",
    "\n",
    "# S_Matrix = np.ones([5,5])\n",
    "\n",
    "# for i in range(0,4):\n",
    "\n",
    "#    for j in range(i+1,5):\n",
    "#\n",
    "#        S_ij = Similarity_Score_EMD_Calculation(\n",
    "#                        ensembleP=Example2_Ensembles[i],\n",
    "#                        ensembleP_weight=Example2_Ensembles_weights[i],\n",
    "#                        ensembleQ=Example2_Ensembles[j],\n",
    "#                        ensembleQ_weight=Example2_Ensembles_weights[j],\n",
    "#                        alpha=1,\n",
    "#                        print_details=False,\n",
    "#                      )\n",
    "#\n",
    "#        print(f\"S({Example2_Ensembles_names[i]},{Example2_Ensembles_names[j]})=\",\n",
    "#              S_ij)\n",
    "#        print('\\n')\n",
    "#\n",
    "#        S_Matrix[i,j] = S_ij\n",
    "\n",
    "#        S_Matrix[j,i] = S_ij"
   ]
  },
  {
   "cell_type": "markdown",
   "metadata": {
    "id": "sExxrLwhT8HD"
   },
   "source": [
    "## Load the  Stored Results of $S(P(\\lambda_1),P(\\lambda_2))$\n",
    "\n",
    "$S(P(\\lambda_1),P(\\lambda_2))$ have been calculated and the results were stored.\n",
    "\n",
    "Users can directly load the $S(P(\\lambda_1),P(\\lambda_2))$ if users want to see the results but do not have time to run the previous step."
   ]
  },
  {
   "cell_type": "code",
   "execution_count": 25,
   "metadata": {
    "id": "EKuV2K4fRmZB"
   },
   "outputs": [],
   "source": [
    "S_Matrix = np.load(\"./dataset/Example2/cp_fp_55.npy\")"
   ]
  },
  {
   "cell_type": "markdown",
   "metadata": {
    "id": "JNGc-SNbU6VF"
   },
   "source": [
    "# Visualize $S(P(\\lambda_1),P(\\lambda_2))$"
   ]
  },
  {
   "cell_type": "code",
   "execution_count": 26,
   "metadata": {
    "colab": {
     "base_uri": "https://localhost:8080/",
     "height": 599
    },
    "id": "jzQl65HsTGFR",
    "outputId": "7a610180-e32b-4a2c-fa6b-22410b1dd64a"
   },
   "outputs": [
    {
     "data": {
      "image/png": "[encoded data removed]",
      "text/plain": [
       "<Figure size 800x660 with 2 Axes>"
      ]
     },
     "metadata": {},
     "output_type": "display_data"
    }
   ],
   "source": [
    "fig, ax = plt.subplots(figsize=(8, 6.6), sharey=True)\n",
    "\n",
    "x_labels = [\"1.0\", \"0.5\", \"0.0\", \"-0.5\", \"-1.0\"]\n",
    "y_labels = [\"1.0\", \"0.5\", \"0.0\", \"-0.5\", \"-1.0\"]\n",
    "\n",
    "sns.heatmap(\n",
    "    S_Matrix,\n",
    "    linewidth=0.3,\n",
    "    annot=True,\n",
    "    fmt=\".2f\",\n",
    "    cmap=\"Blues\",\n",
    "    cbar_kws={\"label\": \"Similarity Score\"},\n",
    ")\n",
    "ax.set_title(r\"Pairwise Similarity under Fingerprints\", fontsize=15)\n",
    "ax.set_xticklabels(x_labels, rotation=0, fontsize=15, horizontalalignment=\"center\")\n",
    "ax.set_yticklabels(y_labels, rotation=360, fontsize=15, horizontalalignment=\"right\")\n",
    "plt.show()"
   ]
  },
  {
   "cell_type": "code",
   "execution_count": null,
   "metadata": {
    "id": "01OQo_UsVFYg"
   },
   "outputs": [],
   "source": []
  }
 ],
 "metadata": {
  "colab": {
   "provenance": []
  },
  "kernelspec": {
   "display_name": "Python 3",
   "name": "python3"
  },
  "language_info": {
   "codemirror_mode": {
    "name": "ipython",
    "version": 3
   },
   "file_extension": ".py",
   "mimetype": "text/x-python",
   "name": "python",
   "nbconvert_exporter": "python",
   "pygments_lexer": "ipython3",
   "version": "3.9.12"
  }
 },
 "nbformat": 4,
 "nbformat_minor": 0
}
