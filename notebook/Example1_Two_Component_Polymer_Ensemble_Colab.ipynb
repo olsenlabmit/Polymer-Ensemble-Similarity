{
 "cells": [
  {
   "cell_type": "markdown",
   "metadata": {
    "id": "qJN4M4IQfWlV"
   },
   "source": [
    "<a target=\"_blank\" href=\"https://colab.research.google.com/github/olsenlabmit/Polymer-Ensemble-Similarity/blob/main/notebook/Example1_Two_Component_Polymer_Ensemble_Colab.ipynb\">\n",
    "  <img src=\"https://colab.research.google.com/assets/colab-badge.svg\" alt=\"Open In Colab\"/>\n",
    "</a>"
   ]
  },
  {
   "cell_type": "code",
   "execution_count": null,
   "metadata": {
    "cellView": "form",
    "id": "zMN73XuAfrN0"
   },
   "outputs": [],
   "source": [
    "# @title Copyright & License (click to expand)\n",
    "\n",
    "# MIT License\n",
    "\n",
    "# Copyright (c) 2023 olsenlabmit\n",
    "\n",
    "# Permission is hereby granted, free of charge, to any person obtaining a copy\n",
    "# of this software and associated documentation files (the \"Software\"), to deal\n",
    "# in the Software without restriction, including without limitation the rights\n",
    "# to use, copy, modify, merge, publish, distribute, sublicense, and/or sell\n",
    "# copies of the Software, and to permit persons to whom the Software is\n",
    "# furnished to do so, subject to the following conditions:\n",
    "\n",
    "# The above copyright notice and this permission notice shall be included in all\n",
    "# copies or substantial portions of the Software.\n",
    "\n",
    "# THE SOFTWARE IS PROVIDED \"AS IS\", WITHOUT WARRANTY OF ANY KIND, EXPRESS OR\n",
    "# IMPLIED, INCLUDING BUT NOT LIMITED TO THE WARRANTIES OF MERCHANTABILITY,\n",
    "# FITNESS FOR A PARTICULAR PURPOSE AND NONINFRINGEMENT. IN NO EVENT SHALL THE\n",
    "# AUTHORS OR COPYRIGHT HOLDERS BE LIABLE FOR ANY CLAIM, DAMAGES OR OTHER\n",
    "# LIABILITY, WHETHER IN AN ACTION OF CONTRACT, TORT OR OTHERWISE, ARISING FROM,\n",
    "# OUT OF OR IN CONNECTION WITH THE SOFTWARE OR THE USE OR OTHER DEALINGS IN THE\n",
    "# SOFTWARE."
   ]
  },
  {
   "cell_type": "markdown",
   "metadata": {
    "id": "_iZyqlBRb7ce"
   },
   "source": [
    "# Download the necessary local functions, tables, and dataset"
   ]
  },
  {
   "cell_type": "code",
   "execution_count": null,
   "metadata": {},
   "outputs": [],
   "source": [
    "!git clone https://github.com/olsenlabmit/Polymer-Ensemble-Similarity.git\n",
    "!mv Polymer-Ensemble-Similarity/dataset .\n",
    "!mv Polymer-Ensemble-Similarity/tables .\n",
    "!mv Polymer-Ensemble-Similarity/utils ."
   ]
  },
  {
   "cell_type": "markdown",
   "metadata": {
    "id": "mSdNpNOZcEdk"
   },
   "source": [
    "# Import the required library"
   ]
  },
  {
   "cell_type": "code",
   "execution_count": 16,
   "metadata": {
    "colab": {
     "base_uri": "https://localhost:8080/"
    },
    "id": "veQ7XTe5KHgx",
    "outputId": "4c631b74-fe4d-4c49-8b75-8f3d6d29e7b0"
   },
   "outputs": [
    {
     "name": "stdout",
     "output_type": "stream",
     "text": [
      "Requirement already satisfied: grakel in /usr/local/lib/python3.10/dist-packages (0.1.9)\n",
      "Requirement already satisfied: numpy>=1.14.0 in /usr/local/lib/python3.10/dist-packages (from grakel) (1.23.5)\n",
      "Requirement already satisfied: cython>=0.27.3 in /usr/local/lib/python3.10/dist-packages (from grakel) (0.29.36)\n",
      "Requirement already satisfied: scikit-learn>=0.19 in /usr/local/lib/python3.10/dist-packages (from grakel) (1.2.2)\n",
      "Requirement already satisfied: six>=1.11.0 in /usr/local/lib/python3.10/dist-packages (from grakel) (1.16.0)\n",
      "Requirement already satisfied: future>=0.16.0 in /usr/local/lib/python3.10/dist-packages (from grakel) (0.18.3)\n",
      "Requirement already satisfied: joblib in /usr/local/lib/python3.10/dist-packages (from grakel) (1.3.2)\n",
      "Requirement already satisfied: scipy>=1.3.2 in /usr/local/lib/python3.10/dist-packages (from scikit-learn>=0.19->grakel) (1.10.1)\n",
      "Requirement already satisfied: threadpoolctl>=2.0.0 in /usr/local/lib/python3.10/dist-packages (from scikit-learn>=0.19->grakel) (3.2.0)\n",
      "Requirement already satisfied: dgl in /usr/local/lib/python3.10/dist-packages (1.1.2)\n",
      "Requirement already satisfied: numpy>=1.14.0 in /usr/local/lib/python3.10/dist-packages (from dgl) (1.23.5)\n",
      "Requirement already satisfied: scipy>=1.1.0 in /usr/local/lib/python3.10/dist-packages (from dgl) (1.10.1)\n",
      "Requirement already satisfied: networkx>=2.1 in /usr/local/lib/python3.10/dist-packages (from dgl) (3.1)\n",
      "Requirement already satisfied: requests>=2.19.0 in /usr/local/lib/python3.10/dist-packages (from dgl) (2.31.0)\n",
      "Requirement already satisfied: tqdm in /usr/local/lib/python3.10/dist-packages (from dgl) (4.66.1)\n",
      "Requirement already satisfied: psutil>=5.8.0 in /usr/local/lib/python3.10/dist-packages (from dgl) (5.9.5)\n",
      "Requirement already satisfied: charset-normalizer<4,>=2 in /usr/local/lib/python3.10/dist-packages (from requests>=2.19.0->dgl) (3.2.0)\n",
      "Requirement already satisfied: idna<4,>=2.5 in /usr/local/lib/python3.10/dist-packages (from requests>=2.19.0->dgl) (3.4)\n",
      "Requirement already satisfied: urllib3<3,>=1.21.1 in /usr/local/lib/python3.10/dist-packages (from requests>=2.19.0->dgl) (2.0.4)\n",
      "Requirement already satisfied: certifi>=2017.4.17 in /usr/local/lib/python3.10/dist-packages (from requests>=2.19.0->dgl) (2023.7.22)\n",
      "Requirement already satisfied: umap-learn in /usr/local/lib/python3.10/dist-packages (0.5.3)\n",
      "Requirement already satisfied: numpy>=1.17 in /usr/local/lib/python3.10/dist-packages (from umap-learn) (1.23.5)\n",
      "Requirement already satisfied: scikit-learn>=0.22 in /usr/local/lib/python3.10/dist-packages (from umap-learn) (1.2.2)\n",
      "Requirement already satisfied: scipy>=1.0 in /usr/local/lib/python3.10/dist-packages (from umap-learn) (1.10.1)\n",
      "Requirement already satisfied: numba>=0.49 in /usr/local/lib/python3.10/dist-packages (from umap-learn) (0.56.4)\n",
      "Requirement already satisfied: pynndescent>=0.5 in /usr/local/lib/python3.10/dist-packages (from umap-learn) (0.5.10)\n",
      "Requirement already satisfied: tqdm in /usr/local/lib/python3.10/dist-packages (from umap-learn) (4.66.1)\n",
      "Requirement already satisfied: llvmlite<0.40,>=0.39.0dev0 in /usr/local/lib/python3.10/dist-packages (from numba>=0.49->umap-learn) (0.39.1)\n",
      "Requirement already satisfied: setuptools in /usr/local/lib/python3.10/dist-packages (from numba>=0.49->umap-learn) (67.7.2)\n",
      "Requirement already satisfied: joblib>=0.11 in /usr/local/lib/python3.10/dist-packages (from pynndescent>=0.5->umap-learn) (1.3.2)\n",
      "Requirement already satisfied: threadpoolctl>=2.0.0 in /usr/local/lib/python3.10/dist-packages (from scikit-learn>=0.22->umap-learn) (3.2.0)\n",
      "Import Library Done!\n"
     ]
    }
   ],
   "source": [
    "import random\n",
    "import numpy as np\n",
    "import shutil\n",
    "import sys\n",
    "import os.path\n",
    "import json\n",
    "from scipy.stats import norm\n",
    "\n",
    "if not shutil.which(\"rdkit\"):\n",
    "    !pip install -q rdkit\n",
    "\n",
    "from rdkit import Chem\n",
    "from rdkit.Chem import Draw\n",
    "from rdkit.Chem.Draw import IPythonConsole\n",
    "\n",
    "if not shutil.which(\"grakel\"):\n",
    "    !pip install grakel\n",
    "\n",
    "if not shutil.which(\"dgl\"):\n",
    "    !pip install dgl\n",
    "\n",
    "if not shutil.which(\"umap\"):\n",
    "    !pip install umap-learn\n",
    "\n",
    "if not shutil.which(\"pyomo\"):\n",
    "    !pip install -q pyomo\n",
    "    assert shutil.which(\"pyomo\")\n",
    "\n",
    "from pyomo.environ import *\n",
    "\n",
    "if not (shutil.which(\"cbc\") or os.path.isfile(\"cbc\")):\n",
    "    if \"google.colab\" in sys.modules:\n",
    "        !apt-get install -y -qq coinor-cbc\n",
    "    else:\n",
    "        try:\n",
    "            !conda install -c conda-forge coincbc\n",
    "        except:\n",
    "            pass\n",
    "\n",
    "assert shutil.which(\"cbc\") or os.path.isfile(\"cbc\")\n",
    "\n",
    "from utils.load_networkx import networkx_feat\n",
    "from utils import macro_unsupervised as unsup\n",
    "from utils import plot\n",
    "\n",
    "print(\"Import Library Done!\")"
   ]
  },
  {
   "cell_type": "markdown",
   "metadata": {
    "id": "YteAN12TdcD2"
   },
   "source": [
    "# Load the Ensemble P and Ensemble Q in Example 1"
   ]
  },
  {
   "cell_type": "code",
   "execution_count": 29,
   "metadata": {
    "colab": {
     "base_uri": "https://localhost:8080/"
    },
    "id": "uwJvO6PjYKeK",
    "outputId": "a21774a7-6c50-49b7-de5a-a8f22c0f7f16"
   },
   "outputs": [
    {
     "name": "stdout",
     "output_type": "stream",
     "text": [
      "Ensemble P: \n"
     ]
    },
    {
     "data": {
      "text/plain": [
       "{'p1': <networkx.classes.graph.Graph at 0x78986c32ffd0>,\n",
       " 'p2': <networkx.classes.graph.Graph at 0x78986c20bb20>}"
      ]
     },
     "execution_count": 29,
     "metadata": {},
     "output_type": "execute_result"
    }
   ],
   "source": [
    "Ensemble_P = networkx_feat(\n",
    "    TXT_DATA_PATH=\"./dataset/Example1/Ensemble_P/\",\n",
    "    MON_SMILES=\"tables/SMILES_monomer.txt\",\n",
    "    FEAT=\"onehot\",\n",
    ")\n",
    "print(\"Ensemble P: \")\n",
    "Ensemble_P"
   ]
  },
  {
   "cell_type": "code",
   "execution_count": 18,
   "metadata": {
    "colab": {
     "base_uri": "https://localhost:8080/",
     "height": 423
    },
    "id": "pAIdxDmcMTCY",
    "outputId": "145e5ca0-ccd3-442f-f92d-72f4e79ac709"
   },
   "outputs": [
    {
     "name": "stdout",
     "output_type": "stream",
     "text": [
      "{0: 'RX1', 1: 'RX2', 2: 'RX1', 3: 'RX2', 4: 'RX1', 5: 'RX2', 6: 'RX1', 7: 'RX2', 8: 'RX1'}\n"
     ]
    },
    {
     "data": {
      "image/png": "[encoded data removed]",
      "text/plain": [
       "<Figure size 640x480 with 1 Axes>"
      ]
     },
     "metadata": {},
     "output_type": "display_data"
    }
   ],
   "source": [
    "plot.graph(Ensemble_P[\"p1\"])"
   ]
  },
  {
   "cell_type": "code",
   "execution_count": 20,
   "metadata": {
    "colab": {
     "base_uri": "https://localhost:8080/",
     "height": 423
    },
    "id": "TGk_nVOodm61",
    "outputId": "d05d98b5-bb25-4375-95da-7f0951975519"
   },
   "outputs": [
    {
     "name": "stdout",
     "output_type": "stream",
     "text": [
      "{0: 'RX2', 1: 'RX1', 2: 'RX2', 3: 'RX1', 4: 'RX2', 5: 'RX1', 6: 'RX2', 7: 'RX1', 8: 'RX2'}\n"
     ]
    },
    {
     "data": {
      "image/png": "[encoded data removed]",
      "text/plain": [
       "<Figure size 640x480 with 1 Axes>"
      ]
     },
     "metadata": {},
     "output_type": "display_data"
    }
   ],
   "source": [
    "plot.graph(Ensemble_P[\"p2\"])"
   ]
  },
  {
   "cell_type": "code",
   "execution_count": 28,
   "metadata": {
    "colab": {
     "base_uri": "https://localhost:8080/"
    },
    "id": "Z5KXPff8eI75",
    "outputId": "50957b02-2917-4bc6-ac54-9e56c6bd8ce4"
   },
   "outputs": [
    {
     "name": "stdout",
     "output_type": "stream",
     "text": [
      "Ensemble Q: \n"
     ]
    },
    {
     "data": {
      "text/plain": [
       "{'q1': <networkx.classes.graph.Graph at 0x78986c32ff70>,\n",
       " 'q2': <networkx.classes.graph.Graph at 0x78986c20b8e0>}"
      ]
     },
     "execution_count": 28,
     "metadata": {},
     "output_type": "execute_result"
    }
   ],
   "source": [
    "Ensemble_Q = networkx_feat(\n",
    "    TXT_DATA_PATH=\"./dataset/Example1/Ensemble_Q/\",\n",
    "    MON_SMILES=\"tables/SMILES_monomer.txt\",\n",
    "    FEAT=\"onehot\",\n",
    ")\n",
    "print(\"Ensemble Q: \")\n",
    "Ensemble_Q"
   ]
  },
  {
   "cell_type": "code",
   "execution_count": 22,
   "metadata": {
    "colab": {
     "base_uri": "https://localhost:8080/",
     "height": 423
    },
    "id": "rLgUo1zkdpcE",
    "outputId": "22e5f29b-b320-48a5-8e73-5d9376d8d500"
   },
   "outputs": [
    {
     "name": "stdout",
     "output_type": "stream",
     "text": [
      "{0: 'RX1', 1: 'RX1', 2: 'RX1', 3: 'RX2', 4: 'RX2', 5: 'RX2', 6: 'RX1', 7: 'RX1', 8: 'RX1'}\n"
     ]
    },
    {
     "data": {
      "image/png": "[encoded data removed]",
      "text/plain": [
       "<Figure size 640x480 with 1 Axes>"
      ]
     },
     "metadata": {},
     "output_type": "display_data"
    }
   ],
   "source": [
    "plot.graph(Ensemble_Q[\"q1\"])"
   ]
  },
  {
   "cell_type": "code",
   "execution_count": 23,
   "metadata": {
    "colab": {
     "base_uri": "https://localhost:8080/",
     "height": 423
    },
    "id": "c1Sje3dHdpfM",
    "outputId": "f1a8a01d-fb2a-4094-b5a1-791fc117e132"
   },
   "outputs": [
    {
     "name": "stdout",
     "output_type": "stream",
     "text": [
      "{0: 'RX2', 1: 'RX2', 2: 'RX2', 3: 'RX1', 4: 'RX1', 5: 'RX1', 6: 'RX2', 7: 'RX2', 8: 'RX2'}\n"
     ]
    },
    {
     "data": {
      "image/png": "[encoded data removed]",
      "text/plain": [
       "<Figure size 640x480 with 1 Axes>"
      ]
     },
     "metadata": {},
     "output_type": "display_data"
    }
   ],
   "source": [
    "plot.graph(Ensemble_Q[\"q2\"])"
   ]
  },
  {
   "cell_type": "markdown",
   "metadata": {
    "id": "e0uCMi7Udzb9"
   },
   "source": [
    "# EMD function"
   ]
  },
  {
   "cell_type": "code",
   "execution_count": 31,
   "metadata": {
    "id": "VkvicUCoMTFZ"
   },
   "outputs": [],
   "source": [
    "def Calculate_EMD(\n",
    "    ensembleP=None,\n",
    "    ensembleP_weight=None,\n",
    "    ensembleQ=None,\n",
    "    ensembleQ_weight=None,\n",
    "    alpha=1,\n",
    "    print_details=False,\n",
    "):\n",
    "    Demand = {}\n",
    "    Supply = {}\n",
    "    T = {}\n",
    "\n",
    "    ensembleP_number = len(ensembleP_weight)\n",
    "\n",
    "    ensembleP_weight_sum = sum(ensembleP_weight)\n",
    "\n",
    "    ensembleP_indexs = list(ensembleP.keys())\n",
    "\n",
    "    for i in range(0, ensembleP_number):\n",
    "        Demand[\"P\" + str(i + 1)] = ensembleP_weight[i] / ensembleP_weight_sum\n",
    "\n",
    "    ensembleQ_number = len(ensembleQ_weight)\n",
    "\n",
    "    ensembleQ_weight_sum = sum(ensembleQ_weight)\n",
    "\n",
    "    ensembleQ_indexs = list(ensembleQ.keys())\n",
    "\n",
    "    for j in range(0, ensembleQ_number):\n",
    "        Supply[\"Q\" + str(j + 1)] = ensembleQ_weight[j] / ensembleQ_weight_sum\n",
    "\n",
    "    for i in range(0, ensembleP_number):\n",
    "        for j in range(0, ensembleQ_number):\n",
    "            GED = unsup.edit_distance(\n",
    "                ensembleP[ensembleP_indexs[i]],\n",
    "                ensembleQ[ensembleQ_indexs[j]],\n",
    "                node_attr=\"h\",\n",
    "                edge_attr=\"e\",\n",
    "                upper_bound=100,\n",
    "                indel_mul=1,\n",
    "                sub_mul=1,\n",
    "            )\n",
    "\n",
    "            N_i = ensembleP[ensembleP_indexs[i]].number_of_nodes()\n",
    "\n",
    "            N_j = ensembleQ[ensembleQ_indexs[j]].number_of_nodes()\n",
    "\n",
    "            T[(\"P\" + str(i + 1), \"Q\" + str(j + 1))] = 1 - np.exp(\n",
    "                -alpha * GED / (0.5 * (N_i + N_j))\n",
    "            )\n",
    "\n",
    "    # Step 0: Create an instance of the model\n",
    "    model = ConcreteModel()\n",
    "    model.dual = Suffix(direction=Suffix.IMPORT)\n",
    "\n",
    "    # Step 1: Define index sets\n",
    "    CUS = list(Demand.keys())\n",
    "    SRC = list(Supply.keys())\n",
    "\n",
    "    # Step 2: Define the decision\n",
    "    model.x = Var(CUS, SRC, domain=NonNegativeReals)\n",
    "\n",
    "    # Step 3: Define Objective\n",
    "    model.Cost = Objective(\n",
    "        expr=sum([T[c, s] * model.x[c, s] for c in CUS for s in SRC]), sense=minimize\n",
    "    )\n",
    "\n",
    "    # Step 4: Constraints\n",
    "    model.src = ConstraintList()\n",
    "    for s in SRC:\n",
    "        model.src.add(sum([model.x[c, s] for c in CUS]) <= Supply[s])\n",
    "\n",
    "    model.dmd = ConstraintList()\n",
    "    for c in CUS:\n",
    "        model.dmd.add(sum([model.x[c, s] for s in SRC]) == Demand[c])\n",
    "\n",
    "    results = SolverFactory(\"cbc\").solve(model)\n",
    "\n",
    "    if \"ok\" == str(results.Solver.status):\n",
    "        if print_details == True:\n",
    "            for s in SRC:\n",
    "                for c in CUS:\n",
    "                    if model.x[c, s]() > 0:\n",
    "                        print(\n",
    "                            \"Ship from \",\n",
    "                            s,\n",
    "                            \" to \",\n",
    "                            c,\n",
    "                            \":\",\n",
    "                            model.x[c, s](),\n",
    "                            \"*\",\n",
    "                            T[c, s],\n",
    "                        )\n",
    "        return model.Cost()\n",
    "\n",
    "    else:\n",
    "        print(\"No Valid Solution Found\")\n",
    "        return False"
   ]
  },
  {
   "cell_type": "markdown",
   "metadata": {
    "id": "lpFPLOC7d3DI"
   },
   "source": [
    "# The calculation of EMD(P,Q) and S(P,Q)"
   ]
  },
  {
   "cell_type": "code",
   "execution_count": 32,
   "metadata": {
    "colab": {
     "base_uri": "https://localhost:8080/"
    },
    "id": "mGdqso5yY2io",
    "outputId": "be351a11-5c35-4883-8e42-53989388ddd5"
   },
   "outputs": [
    {
     "name": "stdout",
     "output_type": "stream",
     "text": [
      "EMD(P,Q) =  0.28346868942621073\n",
      "S(P,Q) =  0.7165313105737893\n"
     ]
    }
   ],
   "source": [
    "EMD = Calculate_EMD(\n",
    "    ensembleP=Ensemble_P,\n",
    "    ensembleP_weight=[0.5, 0.5],\n",
    "    ensembleQ=Ensemble_Q,\n",
    "    ensembleQ_weight=[0.5, 0.5],\n",
    "    alpha=1,\n",
    "    print_details=False,\n",
    ")\n",
    "\n",
    "print(\"EMD(P,Q) = \", EMD)\n",
    "print(\"S(P,Q) = \", 1 - EMD)"
   ]
  }
 ],
 "metadata": {
  "colab": {
   "provenance": []
  },
  "kernelspec": {
   "display_name": "Python 3 (ipykernel)",
   "language": "python",
   "name": "python3"
  },
  "language_info": {
   "codemirror_mode": {
    "name": "ipython",
    "version": 3
   },
   "file_extension": ".py",
   "mimetype": "text/x-python",
   "name": "python",
   "nbconvert_exporter": "python",
   "pygments_lexer": "ipython3",
   "version": "3.9.12"
  }
 },
 "nbformat": 4,
 "nbformat_minor": 1
}
